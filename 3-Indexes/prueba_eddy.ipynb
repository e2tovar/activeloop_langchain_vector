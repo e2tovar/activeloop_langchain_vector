{
 "cells": [
  {
   "cell_type": "code",
   "execution_count": 1,
   "metadata": {},
   "outputs": [
    {
     "name": "stdout",
     "output_type": "stream",
     "text": [
      "page_content='Matriculaciones de Automóviles de turismo\\nEnero 2024\\n2024 2023 %24/23 2024 2023 %24/23\\n68.685 64.038 7,3% 68.685 64.038 7,3%\\nTop 10 Automóviles de turismo\\nEnero-Enero\\n1º TOYOTA 7.615 TOYOTA 7.615 DACIA SANDERO 2.233 DACIA SANDERO 2.233\\n2º SEAT 5.073 SEAT 5.073 TOYOTA COROLLA 2.143 TOYOTA COROLLA 2.143\\n3º KIA 4.594 KIA 4.594 MG ZS 1.626 MG ZS 1.626\\n4º HYUNDAI 4.121 HYUNDAI 4.121 SEAT LEON 1.535 SEAT LEON 1.535\\n5º PEUGEOT 3.811 PEUGEOT 3.811 TOYOTA YARIS CROSS 1.522 TOYOTA YARIS CROSS 1.522\\n6º DACIA 3.780 DACIA 3.780 SEAT ARONA 1.501 SEAT ARONA 1.501\\n7º BMW 3.593 BMW 3.593 HYUNDAI TUCSON 1.494 HYUNDAI TUCSON 1.494\\n8º VOLKSWAGEN 3.405 VOLKSWAGEN 3.405 PEUGEOT 2008 1.465 PEUGEOT 2008 1.465\\n9º MERCEDES 3.308 MERCEDES 3.308 SEAT IBIZA 1.371 SEAT IBIZA 1.371\\n10º RENAULT 2.937 RENAULT 2.937 TOYOTA RAV 4 1.241 TOYOTA RAV 4 1.241\\nAutomóviles de turismo: Detalle por carburante (Cuota)\\nEne.      Feb. Mar.     Abr. May.     Jun. Jul.       Ago. Sep.     Oct.      Nov. Dic.     Año\\nGasolina 34,9%                            34,9%\\nDiesel 11,0%                            11,0%\\nResto* 54,1%                            54,1%\\n(*) Incluye: eléctrico puro (BEV), eléctrico de autonomía extendida (EREV), híbrido enchufable (PHEV) y no enchufable (HEV), hidrógeno (FCEV), GNC, GNL y GLP\\nAutomóviles de turismos: Detalle por segmentos\\nUnidades Cuota %24/23 Unidades Cuota %24/23\\nUrbano 2.228 3,2% -8,4% 2.228 3,2% -8,4%\\nUtilitario 11.225 16,3% 3,3% 11.225 16,3% 3,3%\\nCompacto 11.925 17,4% 13,9% 11.925 17,4% 13,9%\\nMedio 2.598 3,8% 47,8% 2.598 3,8% 47,8%\\nDeportivo 239 0,3% 64,8% 239 0,3% 64,8%\\nGrande 291 0,4% 28,8% 291 0,4% 28,8%\\nPremium 126 0,2% -13,1% 126 0,2% -13,1%\\nMonovol. Pequeño 395 0,6% 41,6% 395 0,6% 41,6%\\nMonovol. Grande 149 0,2% 9,6% 149 0,2% 9,6%\\nSUV Pequeño 13.468 19,6% 4,6% 13.468 19,6% 4,6%\\nSUV Medio 20.926 30,5% 3,0% 20.926 30,5% 3,0%\\nSUV Grande 3.494 5,1% 17,3% 3.494 5,1% 17,3%\\nSUV Premium 1.216 1,8% 21,8% 1.216 1,8% 21,8%\\nTodoterreno 405 0,6% -3,6% 405 0,6% -3,6%\\nFuente: Elaboracón (Instituto de Estudios de Automoción) en base a datos de DGT Página 1 de 2Enero Enero-EneroEnero Enero-Enero\\nAutomóviles de turismo\\nTop Marcas Top Modelos\\nEnero Enero-Enero Enero' metadata={'source': 'example_data/Informe-Turismos-Enero-2024.pdf', 'page': 0}\n"
     ]
    }
   ],
   "source": [
    "from langchain.document_loaders import PyPDFLoader\n",
    "\n",
    "loader = PyPDFLoader(\"example_data/Informe-Turismos-Enero-2024.pdf\")\n",
    "pages = loader.load_and_split()\n",
    "\n",
    "print(pages[0])"
   ]
  },
  {
   "cell_type": "code",
   "execution_count": 2,
   "metadata": {},
   "outputs": [],
   "source": [
    "from langchain_openai import OpenAI\n",
    "from langchain.prompts import PromptTemplate\n",
    "from langchain.output_parsers import PydanticOutputParser\n",
    "from pydantic import BaseModel, Field, validator"
   ]
  },
  {
   "cell_type": "code",
   "execution_count": 3,
   "metadata": {},
   "outputs": [],
   "source": [
    "model_name = 'gpt-3.5-turbo-instruct'\n",
    "temperature = 0.0\n",
    "model = OpenAI(model_name=model_name, temperature=temperature)"
   ]
  },
  {
   "cell_type": "markdown",
   "metadata": {},
   "source": [
    "Un prompt incompleto que produce una salida no correcta por una mala interpretación"
   ]
  },
  {
   "cell_type": "code",
   "execution_count": 36,
   "metadata": {},
   "outputs": [
    {
     "data": {
      "text/plain": [
       "Turismo(anio_actual=2024, valor_actual=68, anio_pasado=2023, valor_pasado=64)"
      ]
     },
     "execution_count": 36,
     "metadata": {},
     "output_type": "execute_result"
    }
   ],
   "source": [
    "from datetime import datetime\n",
    "# Define your desired data structure.\n",
    "class Turismo(BaseModel):\n",
    "    anio_actual: int = Field(description=\"Año actual\")\n",
    "    valor_actual: int = Field(description=\"Número de ventas del año actual\")\n",
    "    anio_pasado: int = Field(description=\"Año anterior al actual\")\n",
    "    valor_pasado: int = Field(description=\"Número de ventas del año anterior\")\n",
    "\n",
    "    # You can add custom validation logic easily with Pydantic.\n",
    "    @validator('anio_actual')\n",
    "    def anio_is_actual(cls, field):\n",
    "        if field != datetime.now().year:\n",
    "            raise ValueError(\"No es el año actual\")\n",
    "        return field\n",
    "    \n",
    "    \"\"\"\n",
    "    # You can add custom validation logic easily with Pydantic.\n",
    "    @validator('valor_actual')\n",
    "    def anio_is_actual(cls, field):\n",
    "        if field < 1000:\n",
    "            raise ValueError(\"El valor es muy pequeño. Revisar formato\")\n",
    "        return field\n",
    "    \"\"\"\n",
    "    \n",
    "# Set up a parser + inject instructions into the prompt template.\n",
    "parser = PydanticOutputParser(pydantic_object=Turismo)\n",
    "    \n",
    "template = \"\"\"\n",
    "        Te daré una página de documento acerca de ventas de turismos(automóviles). \n",
    "        Necesito que extraigas de dicho texto el número total de ventas del mes en cuestion para el año actual y el pasado.\n",
    "        \n",
    "        texto: {texto}\n",
    "        \\n{format_instructions}\"\"\"\n",
    "\n",
    "\n",
    "prompt = PromptTemplate(\n",
    "    template=template,\n",
    "    input_variables=[\"texto\"],\n",
    "    partial_variables={\"format_instructions\": parser.get_format_instructions()}\n",
    ")\n",
    "\n",
    "_input = prompt.format_prompt(texto=pages[0])\n",
    "\n",
    "output = model.invoke(_input.to_string())\n",
    "\n",
    "parser.parse(output)"
   ]
  },
  {
   "cell_type": "markdown",
   "metadata": {},
   "source": [
    "## Solución 1 con fewshottemplate"
   ]
  },
  {
   "cell_type": "code",
   "execution_count": 37,
   "metadata": {},
   "outputs": [
    {
     "name": "stdout",
     "output_type": "stream",
     "text": [
      "{\n",
      "  \"anio_actual\": 2024,\n",
      "  \"valor_actual\": 67326,\n",
      "  \"anio_pasado\": 2023,\n",
      "  \"valor_pasado\": 58568\n",
      "}\n"
     ]
    }
   ],
   "source": [
    "from langchain import LLMChain, FewShotPromptTemplate, PromptTemplate\n",
    "from langchain.chat_models import ChatOpenAI\n",
    "\n",
    "llm = ChatOpenAI(model_name=\"gpt-3.5-turbo-1106\", temperature=0)\n",
    "\n",
    "\n",
    "examples = [\n",
    "    {\"text\": \"67.326\", \"valor\": \"67326\"},\n",
    "    {\"text\": \"58.568\", \"valor\": \"58568\"}\n",
    "    ]\n",
    "\n",
    "example_template = \"\"\"\n",
    "Text: {text}\n",
    "Valor: {valor}\n",
    "\"\"\"\n",
    "\n",
    "example_prompt = PromptTemplate(\n",
    "    input_variables=[\"text\", \"valor\"],\n",
    "    template=example_template,\n",
    ")\n",
    "\n",
    "dynamic_prompt = FewShotPromptTemplate(\n",
    "    examples=examples,\n",
    "    example_prompt=example_prompt,\n",
    "    prefix=template,\n",
    "    input_variables=[\"texto\"],\n",
    "    suffix=\"\",\n",
    "    example_separator=\"\\n\\n\",\n",
    "    partial_variables={\"format_instructions\": parser.get_format_instructions()}\n",
    ")\n",
    "\n",
    "# Create the LLMChain for the dynamic_prompt\n",
    "chain = LLMChain(llm=llm, prompt=dynamic_prompt)\n",
    "\n",
    "# Run the LLMChain with input_data\n",
    "response = chain.invoke({\"texto\": pages[0].page_content})\n",
    "\n",
    "print(response['text'])"
   ]
  },
  {
   "cell_type": "markdown",
   "metadata": {},
   "source": [
    "Suponiendo que evidentemente no sabemos que lo va a hacer que de error. Incluimos un nuevo validador y dará error"
   ]
  },
  {
   "cell_type": "code",
   "execution_count": 38,
   "metadata": {},
   "outputs": [
    {
     "ename": "OutputParserException",
     "evalue": "Failed to parse Turismo from completion \n{\n    \"anio_actual\": 2024,\n    \"valor_actual\": 68.685,\n    \"anio_pasado\": 2023,\n    \"valor_pasado\": 64.038\n}. Got: 1 validation error for Turismo\nvalor_actual\n  El valor es muy pequeño. Revisar formato (type=value_error)",
     "output_type": "error",
     "traceback": [
      "\u001b[1;31m---------------------------------------------------------------------------\u001b[0m",
      "\u001b[1;31mValidationError\u001b[0m                           Traceback (most recent call last)",
      "File \u001b[1;32mc:\\Users\\Eddy.Tovar\\Documents\\Datos\\work\\PycharmProjects\\proyectos_personales\\cursos_llm\\activeloop_langchain_vector\\venv\\lib\\site-packages\\langchain\\output_parsers\\pydantic.py:34\u001b[0m, in \u001b[0;36mPydanticOutputParser.parse\u001b[1;34m(self, text)\u001b[0m\n\u001b[0;32m     33\u001b[0m     json_object \u001b[39m=\u001b[39m json\u001b[39m.\u001b[39mloads(json_str, strict\u001b[39m=\u001b[39m\u001b[39mFalse\u001b[39;00m)\n\u001b[1;32m---> 34\u001b[0m     \u001b[39mreturn\u001b[39;00m \u001b[39mself\u001b[39;49m\u001b[39m.\u001b[39;49mpydantic_object\u001b[39m.\u001b[39;49mparse_obj(json_object)\n\u001b[0;32m     36\u001b[0m \u001b[39mexcept\u001b[39;00m (json\u001b[39m.\u001b[39mJSONDecodeError, ValidationError) \u001b[39mas\u001b[39;00m e:\n",
      "File \u001b[1;32mc:\\Users\\Eddy.Tovar\\Documents\\Datos\\work\\PycharmProjects\\proyectos_personales\\cursos_llm\\activeloop_langchain_vector\\venv\\lib\\site-packages\\pydantic\\main.py:526\u001b[0m, in \u001b[0;36mpydantic.main.BaseModel.parse_obj\u001b[1;34m()\u001b[0m\n",
      "File \u001b[1;32mc:\\Users\\Eddy.Tovar\\Documents\\Datos\\work\\PycharmProjects\\proyectos_personales\\cursos_llm\\activeloop_langchain_vector\\venv\\lib\\site-packages\\pydantic\\main.py:341\u001b[0m, in \u001b[0;36mpydantic.main.BaseModel.__init__\u001b[1;34m()\u001b[0m\n",
      "\u001b[1;31mValidationError\u001b[0m: 1 validation error for Turismo\nvalor_actual\n  El valor es muy pequeño. Revisar formato (type=value_error)",
      "\nDuring handling of the above exception, another exception occurred:\n",
      "\u001b[1;31mOutputParserException\u001b[0m                     Traceback (most recent call last)",
      "\u001b[1;32mc:\\Users\\Eddy.Tovar\\Documents\\Datos\\work\\PycharmProjects\\proyectos_personales\\cursos_llm\\activeloop_langchain_vector\\3-Indexes\\prueba_eddy.ipynb Cell 9\u001b[0m line \u001b[0;36m4\n\u001b[0;32m     <a href='vscode-notebook-cell:/c%3A/Users/Eddy.Tovar/Documents/Datos/work/PycharmProjects/proyectos_personales/cursos_llm/activeloop_langchain_vector/3-Indexes/prueba_eddy.ipynb#X11sZmlsZQ%3D%3D?line=41'>42</a>\u001b[0m _input \u001b[39m=\u001b[39m prompt\u001b[39m.\u001b[39mformat_prompt(texto\u001b[39m=\u001b[39mpages[\u001b[39m0\u001b[39m])\n\u001b[0;32m     <a href='vscode-notebook-cell:/c%3A/Users/Eddy.Tovar/Documents/Datos/work/PycharmProjects/proyectos_personales/cursos_llm/activeloop_langchain_vector/3-Indexes/prueba_eddy.ipynb#X11sZmlsZQ%3D%3D?line=43'>44</a>\u001b[0m output \u001b[39m=\u001b[39m model\u001b[39m.\u001b[39minvoke(_input\u001b[39m.\u001b[39mto_string())\n\u001b[1;32m---> <a href='vscode-notebook-cell:/c%3A/Users/Eddy.Tovar/Documents/Datos/work/PycharmProjects/proyectos_personales/cursos_llm/activeloop_langchain_vector/3-Indexes/prueba_eddy.ipynb#X11sZmlsZQ%3D%3D?line=45'>46</a>\u001b[0m parser\u001b[39m.\u001b[39;49mparse(output)\n",
      "File \u001b[1;32mc:\\Users\\Eddy.Tovar\\Documents\\Datos\\work\\PycharmProjects\\proyectos_personales\\cursos_llm\\activeloop_langchain_vector\\venv\\lib\\site-packages\\langchain\\output_parsers\\pydantic.py:39\u001b[0m, in \u001b[0;36mPydanticOutputParser.parse\u001b[1;34m(self, text)\u001b[0m\n\u001b[0;32m     37\u001b[0m name \u001b[39m=\u001b[39m \u001b[39mself\u001b[39m\u001b[39m.\u001b[39mpydantic_object\u001b[39m.\u001b[39m\u001b[39m__name__\u001b[39m\n\u001b[0;32m     38\u001b[0m msg \u001b[39m=\u001b[39m \u001b[39mf\u001b[39m\u001b[39m\"\u001b[39m\u001b[39mFailed to parse \u001b[39m\u001b[39m{\u001b[39;00mname\u001b[39m}\u001b[39;00m\u001b[39m from completion \u001b[39m\u001b[39m{\u001b[39;00mtext\u001b[39m}\u001b[39;00m\u001b[39m. Got: \u001b[39m\u001b[39m{\u001b[39;00me\u001b[39m}\u001b[39;00m\u001b[39m\"\u001b[39m\n\u001b[1;32m---> 39\u001b[0m \u001b[39mraise\u001b[39;00m OutputParserException(msg, llm_output\u001b[39m=\u001b[39mtext)\n",
      "\u001b[1;31mOutputParserException\u001b[0m: Failed to parse Turismo from completion \n{\n    \"anio_actual\": 2024,\n    \"valor_actual\": 68.685,\n    \"anio_pasado\": 2023,\n    \"valor_pasado\": 64.038\n}. Got: 1 validation error for Turismo\nvalor_actual\n  El valor es muy pequeño. Revisar formato (type=value_error)"
     ]
    }
   ],
   "source": [
    "from datetime import datetime\n",
    "# Define your desired data structure.\n",
    "class Turismo(BaseModel):\n",
    "    anio_actual: int = Field(description=\"Año actual\")\n",
    "    valor_actual: int = Field(description=\"Número de ventas del año actual\")\n",
    "    anio_pasado: int = Field(description=\"Año anterior al actual\")\n",
    "    valor_pasado: int = Field(description=\"Número de ventas del año anterior\")\n",
    "\n",
    "    # You can add custom validation logic easily with Pydantic.\n",
    "    @validator('anio_actual')\n",
    "    def anio_is_actual(cls, field):\n",
    "        if field != datetime.now().year:\n",
    "            raise ValueError(\"No es el año actual\")\n",
    "        return field\n",
    "    \n",
    "    \n",
    "    # You can add custom validation logic easily with Pydantic.\n",
    "    @validator('valor_actual')\n",
    "    def anio_is_actual(cls, field):\n",
    "        if field < 1000:\n",
    "            raise ValueError(\"El valor es muy pequeño. Revisar formato\")\n",
    "        return field\n",
    "    \n",
    "    \n",
    "# Set up a parser + inject instructions into the prompt template.\n",
    "parser = PydanticOutputParser(pydantic_object=Turismo)\n",
    "    \n",
    "template = \"\"\"\n",
    "        Te daré una página de documento acerca de ventas de turismos(automóviles). \n",
    "        Necesito que extraigas de dicho texto el número total de ventas del mes en cuestion para el año actual y el pasado.\n",
    "        \n",
    "        texto: {texto}\n",
    "        \\n{format_instructions}\"\"\"\n",
    "\n",
    "\n",
    "prompt = PromptTemplate(\n",
    "    template=template,\n",
    "    input_variables=[\"texto\"],\n",
    "    partial_variables={\"format_instructions\": parser.get_format_instructions()}\n",
    ")\n",
    "\n",
    "_input = prompt.format_prompt(texto=pages[0])\n",
    "\n",
    "output = model.invoke(_input.to_string())\n",
    "\n",
    "parser.parse(output)\n"
   ]
  },
  {
   "cell_type": "markdown",
   "metadata": {},
   "source": [
    "## Incluimos el rectificador automático"
   ]
  },
  {
   "cell_type": "code",
   "execution_count": 39,
   "metadata": {},
   "outputs": [
    {
     "name": "stdout",
     "output_type": "stream",
     "text": [
      "intentando corregir salida..llamamos con el formato correcto nuevamente\n"
     ]
    },
    {
     "data": {
      "text/plain": [
       "Turismo(anio_actual=2024, valor_actual=68685, anio_pasado=2023, valor_pasado=64038)"
      ]
     },
     "execution_count": 39,
     "metadata": {},
     "output_type": "execute_result"
    }
   ],
   "source": [
    "from langchain.output_parsers import OutputFixingParser\n",
    "\n",
    "try:\n",
    "    ans = parser.parse(output)\n",
    "except Exception as e:\n",
    "    print('intentando corregir salida..llamamos con el formato correcto nuevamente')\n",
    "    o_parse = OutputFixingParser.from_llm(parser=parser, llm=model)\n",
    "    ans = o_parse.parse(output)\n",
    "\n",
    "ans"
   ]
  },
  {
   "cell_type": "code",
   "execution_count": null,
   "metadata": {},
   "outputs": [],
   "source": []
  }
 ],
 "metadata": {
  "kernelspec": {
   "display_name": "venv",
   "language": "python",
   "name": "python3"
  },
  "language_info": {
   "codemirror_mode": {
    "name": "ipython",
    "version": 3
   },
   "file_extension": ".py",
   "mimetype": "text/x-python",
   "name": "python",
   "nbconvert_exporter": "python",
   "pygments_lexer": "ipython3",
   "version": "3.9.13"
  }
 },
 "nbformat": 4,
 "nbformat_minor": 2
}
