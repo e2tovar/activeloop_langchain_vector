{
  "cells": [
    {
      "cell_type": "code",
      "execution_count": 1,
      "metadata": {
        "colab": {
          "base_uri": "https://localhost:8080/"
        },
        "id": "JRhvwNoLQr1l",
        "outputId": "d33e5bc9-bf03-4707-96d8-3988f468b8d1"
      },
      "outputs": [],
      "source": [
        "from dotenv import load_dotenv\n",
        "import os\n",
        "\n",
        "load_dotenv()\n",
        "os.environ['OPENAI_API_KEY'] = os.environ.get('OPENAI_API_KEY')\n",
        "os.environ['ACTIVELOOP_TOKEN'] = os.environ.get('ACTIVELOOP_TOKEN')"
      ]
    },
    {
      "cell_type": "code",
      "execution_count": 1,
      "metadata": {
        "id": "yCN2p_HlQuSX"
      },
      "outputs": [],
      "source": [
        "from langchain.document_loaders import PyPDFLoader\n",
        "loader = PyPDFLoader(\"example_data/The One Page Linux Manual.pdf\")\n",
        "pages = loader.load_and_split()"
      ]
    },
    {
      "cell_type": "code",
      "execution_count": 2,
      "metadata": {
        "colab": {
          "base_uri": "https://localhost:8080/"
        },
        "id": "mW9ujW6KQ5ma",
        "outputId": "42e6a7c8-2926-432f-f726-336171737cf9"
      },
      "outputs": [
        {
          "name": "stdout",
          "output_type": "stream",
          "text": [
            "page_content='THE ONE     PAGE LINUX MANUALA summary of useful Linux commands\\nVersion 3.0 May 1999 squadron@powerup.com.au\\nStarting & Stopping\\nshutdown -h now Shutdown the system now and do not\\nreboot\\nhalt Stop all processes - same as above\\nshutdown -r 5 Shutdown the system in 5 minutes and\\nreboot\\nshutdown -r now Shutdown the system now and reboot\\nreboot Stop all processes and then reboot - same\\nas above\\nstartx Start the X system\\nAccessing & mounting file systems\\nmount -t iso9660 /dev/cdrom\\n/mnt/cdromMount the device cdrom\\nand call it cdrom under the\\n/mnt directory\\nmount -t msdos /dev/hdd\\n/mnt/ddriveMount hard disk “d” as a\\nmsdos file system and call\\nit ddrive under the /mnt\\ndirectory\\nmount -t vfat /dev/hda1\\n/mnt/cdriveMount hard disk “a” as a\\nVFAT file system and call it\\ncdrive under the /mnt\\ndirectory\\numount /mnt/cdrom Unmount the cdrom\\nFinding files and text within files\\nfind / -name  fname Starting with the root directory, look\\nfor the file called fname\\nfind / -name ”*fname* ” Starting with the root directory, look\\nfor the file containing the string fname\\nlocate missingfilename Find a file called missingfilename\\nusing the locate command - this\\nassumes you have already used the\\ncommand updatedb (see next)\\nupdatedb Create or update the database of files\\non all file systems attached to the linux\\nroot directory\\nwhich missingfilename Show the subdirectory containing the\\nexecutable file  called missingfilename\\ngrep textstringtofind\\n/dirStarting with the directory called dir ,\\nlook for and list all files containing\\ntextstringtofind\\nThe X Window System\\nxvidtune Run the X graphics tuning utility\\nXF86Setup Run the X configuration menu with\\nautomatic probing of graphics cards\\nXconfigurator Run another X configuration menu with\\nautomatic probing of graphics cards\\nxf86config Run a text based X configuration menu\\nMoving, copying, deleting & viewing files\\nls -l List files in current directory using\\nlong format\\nls -F List files in current directory and\\nindicate the file type\\nls -laC List all files in current directory in\\nlong format and display in columnsrm name Remove a file or directory called\\nname\\nrm -rf name Kill off an entire directory and all it’s\\nincludes files and subdirectories\\ncp filename\\n/home/dirnameCopy the file called filename to the\\n/home/dirname directory\\nmv filename\\n/home/dirnameMove the file called filename to the\\n/home/dirname directory\\ncat filetoview Display the file called filetoview\\nman -k keyword Display man pages containing\\nkeyword\\nmore filetoview Display the file called filetoview one\\npage at a time, proceed to next page\\nusing the spacebar\\nhead filetoview Display the first 10 lines of the file\\ncalled filetoview\\nhead -20 filetoview Display the first 20 lines of the file\\ncalled filetoview\\ntail filetoview Display the last 10 lines of the file\\ncalled filetoview\\ntail -20 filetoview Display the last 20 lines of the file\\ncalled filetoview\\nInstalling software for Linux\\nrpm -ihv name.rpm Install the rpm package called name\\nrpm -Uhv name.rpm Upgrade the rpm package called\\nname\\nrpm -e package Delete the rpm package called\\npackage\\nrpm -l package List the files in the package called\\npackage\\nrpm -ql package List the files and state the installed\\nversion of the package called\\npackage\\nrpm -i --force package Reinstall the rpm package called\\nname having deleted parts of it (not\\ndeleting using rpm -e)\\ntar -zxvf archive.tar.gz or\\ntar -zxvf archive.tgzDecompress the files contained in\\nthe zipped and tarred archive called\\narchive\\n./configure Execute the script preparing the\\ninstalled files for compiling\\nUser Administration\\nadduser accountname Create a new user call accountname\\npasswd accountname Give accountname a new password\\nsu Log in as superuser from current login\\nexit Stop being superuser and revert to\\nnormal user\\nLittle known tips and tricks\\nifconfig List ip addresses for all devices on\\nthe machine\\napropos subject List manual pages for subject\\nusermount Executes graphical application for\\nmounting and unmounting file\\nsystems' metadata={'source': 'example_data/The One Page Linux Manual.pdf', 'page': 0}\n"
          ]
        }
      ],
      "source": [
        "from langchain.text_splitter import CharacterTextSplitter\n",
        "text_splitter = CharacterTextSplitter(chunk_size=1000, chunk_overlap=20)\n",
        "texts = text_splitter.split_documents(pages)\n",
        "\n",
        "print(texts[0])"
      ]
    },
    {
      "cell_type": "code",
      "execution_count": 3,
      "metadata": {
        "colab": {
          "base_uri": "https://localhost:8080/"
        },
        "id": "g5wpgZI0RKBJ",
        "outputId": "b44ee37c-9821-4d62-95f2-f07c0bc287d0"
      },
      "outputs": [
        {
          "name": "stdout",
          "output_type": "stream",
          "text": [
            "You have 2 documents\n"
          ]
        }
      ],
      "source": [
        "print (f\"You have {len(texts)} documents\")"
      ]
    },
    {
      "cell_type": "code",
      "execution_count": null,
      "metadata": {
        "colab": {
          "base_uri": "https://localhost:8080/"
        },
        "id": "Rw4Wzt7N7F7k",
        "outputId": "d3d8eb0e-ecd1-4731-8d3e-e758ba442c95"
      },
      "outputs": [
        {
          "name": "stdout",
          "output_type": "stream",
          "text": [
            "Preview:\n",
            "THE ONE     PAGE LINUX MANUALA summary of useful Linux commands\n",
            "Version 3.0 May 1999 squadron@powerup.com.au\n",
            "Starting & Stopping\n",
            "shutdown -h now Shutdown the system now and do not\n",
            "reboot\n",
            "halt Stop all processes - same as above\n",
            "shutdown -r 5 Shutdown the system in 5 minutes and\n",
            "reboot\n",
            "shutdown -r now Shutdown the system now and reboot\n",
            "reboot Stop all processes and then reboot - same\n",
            "as above\n",
            "startx Start the X system\n",
            "Accessing & mounting file systems\n",
            "mount -t iso9660 /dev/cdrom\n",
            "/mnt/cdromMount the device cdrom\n",
            "and call it cdrom under the\n",
            "/mnt directory\n",
            "mount -t msdos /dev/hdd\n",
            "/mnt/ddriveMount hard disk “d” as a\n",
            "msdos file system and call\n",
            "it ddrive under the /mnt\n",
            "directory\n",
            "mount -t vfat /dev/hda1\n",
            "/mnt/cdriveMount hard disk “a” as a\n",
            "VFAT file system and call it\n",
            "cdrive under the /mnt\n",
            "directory\n",
            "umount /mnt/cdrom Unmount the cdrom\n",
            "Finding files and text within files\n",
            "find / -name  fname Starting with the root directory, look\n",
            "for the file called fname\n",
            "find / -name ”*fname* ” Starting with the root directory, look\n",
            "for the file containing the string fname\n",
            "locate missingfilename Find a file called missingfilename\n",
            "using the locate command - this\n",
            "assumes you have already used the\n",
            "command updatedb (see next)\n",
            "updatedb Create or update the database of files\n",
            "on all file systems attached to the linux\n",
            "root directory\n",
            "which missingfilename Show the subdirectory containing the\n",
            "executable file  called missingfilename\n",
            "grep textstringtofind\n",
            "/dirStarting with the directory called dir ,\n",
            "look for and list all files containing\n",
            "textstringtofind\n",
            "The X Window System\n",
            "xvidtune Run the X graphics tuning utility\n",
            "XF86Setup Run the X configuration menu with\n",
            "automatic probing of graphics cards\n",
            "Xconfigurator Run another X configuration menu with\n",
            "automatic probing of graphics cards\n",
            "xf86config Run a text based X configuration menu\n",
            "Moving, copying, deleting & viewing files\n",
            "ls -l List files in current directory using\n",
            "long format\n",
            "ls -F List files in current directory and\n",
            "indicate the file type\n",
            "ls -laC List all files in current directory in\n",
            "long format and display in columnsrm name Remove a file or directory called\n",
            "name\n",
            "rm -rf name Kill off an entire directory and all it’s\n",
            "includes files and subdirectories\n",
            "cp filename\n",
            "/home/dirnameCopy the file called filename to the\n",
            "/home/dirname directory\n",
            "mv filename\n",
            "/home/dirnameMove the file called filename to the\n",
            "/home/dirname directory\n",
            "cat filetoview Display the file called filetoview\n",
            "man -k keyword Display man pages containing\n",
            "keyword\n",
            "more filetoview Display the file called filetoview one\n",
            "page at a time, proceed to next page\n",
            "using the spacebar\n",
            "head filetoview Display the first 10 lines of the file\n",
            "called filetoview\n",
            "head -20 filetoview Display the first 20 lines of the file\n",
            "called filetoview\n",
            "tail filetoview Display the last 10 lines of the file\n",
            "called filetoview\n",
            "tail -20 filetoview Display the last 20 lines of the file\n",
            "called filetoview\n",
            "Installing software for Linux\n",
            "rpm -ihv name.rpm Install the rpm package called name\n",
            "rpm -Uhv name.rpm Upgrade the rpm package called\n",
            "name\n",
            "rpm -e package Delete the rpm package called\n",
            "package\n",
            "rpm -l package List the files in the package called\n",
            "package\n",
            "rpm -ql package List the files and state the installed\n",
            "version of the package called\n",
            "package\n",
            "rpm -i --force package Reinstall the rpm package called\n",
            "name having deleted parts of it (not\n",
            "deleting using rpm -e)\n",
            "tar -zxvf archive.tar.gz or\n",
            "tar -zxvf archive.tgzDecompress the files contained in\n",
            "the zipped and tarred archive called\n",
            "archive\n",
            "./configure Execute the script preparing the\n",
            "installed files for compiling\n",
            "User Administration\n",
            "adduser accountname Create a new user call accountname\n",
            "passwd accountname Give accountname a new password\n",
            "su Log in as superuser from current login\n",
            "exit Stop being superuser and revert to\n",
            "normal user\n",
            "Little known tips and tricks\n",
            "ifconfig List ip addresses for all devices on\n",
            "the machine\n",
            "apropos subject List manual pages for subject\n",
            "usermount Executes graphical application for\n",
            "mounting and unmounting file\n",
            "systems\n"
          ]
        }
      ],
      "source": [
        "print (\"Preview:\")\n",
        "print (texts[0].page_content)"
      ]
    },
    {
      "cell_type": "markdown",
      "metadata": {
        "id": "LY72xoXgRo8n"
      },
      "source": [
        "#====="
      ]
    },
    {
      "cell_type": "markdown",
      "metadata": {},
      "source": [
        "## NLTK Text Splitter"
      ]
    },
    {
      "cell_type": "code",
      "execution_count": 4,
      "metadata": {
        "id": "JVro99tsRtYH"
      },
      "outputs": [],
      "source": [
        "!echo \"Helllo, my name is Ala\\n Hello again\\n\\ntesting newline.\" > LLM.txt"
      ]
    },
    {
      "cell_type": "code",
      "execution_count": 5,
      "metadata": {
        "id": "_d131J86RLtb"
      },
      "outputs": [
        {
          "name": "stdout",
          "output_type": "stream",
          "text": [
            "['\"Helllo, my name is Ala\\n Hello again\\n\\ntesting newline.\"']\n"
          ]
        }
      ],
      "source": [
        "from langchain.text_splitter import NLTKTextSplitter\n",
        "\n",
        "# Load a long document\n",
        "with open('LLM.txt', encoding= 'unicode_escape') as f:\n",
        "    sample_text = f.read()\n",
        "\n",
        "text_splitter = NLTKTextSplitter(chunk_size=500)\n",
        "texts = text_splitter.split_text(sample_text)\n",
        "print(texts)"
      ]
    },
    {
      "cell_type": "markdown",
      "metadata": {},
      "source": [
        "## Recursive Character Text Splitter\n",
        "\n",
        "The Recursive Character Text Splitter is a text splitter designed to split the text into chunks based on a list of characters provided. It attempts to split text using the characters from a list in order until the resulting chunks are small enough. By default, the list of characters used for splitting is [\"\\n\\n\", \"\\n\", \" \", \"], which tries to keep paragraphs, sentences, and words together as long as possible, as they are generally the most semantically related pieces of text. This means that the class first tries to split the text into two new-line characters. If the resulting chunks are still larger than the desired chunk size, it will then try to split the output by a single new-line character, followed by a space character, and so on, until the desired chunk size is achieved."
      ]
    },
    {
      "cell_type": "code",
      "execution_count": 7,
      "metadata": {
        "id": "VbD9oy4sRqKV"
      },
      "outputs": [
        {
          "name": "stdout",
          "output_type": "stream",
          "text": [
            "page_content='THE ONE     PAGE LINUX MANUALA summary of useful' metadata={'source': 'example_data/The One Page Linux Manual.pdf', 'page': 0}\n",
            "page_content='of useful Linux commands' metadata={'source': 'example_data/The One Page Linux Manual.pdf', 'page': 0}\n",
            "page_content='Version 3.0 May 1999 squadron@powerup.com.au' metadata={'source': 'example_data/The One Page Linux Manual.pdf', 'page': 0}\n",
            "page_content='Starting & Stopping' metadata={'source': 'example_data/The One Page Linux Manual.pdf', 'page': 0}\n",
            "page_content='shutdown -h now Shutdown the system now and do' metadata={'source': 'example_data/The One Page Linux Manual.pdf', 'page': 0}\n",
            "page_content='and do not' metadata={'source': 'example_data/The One Page Linux Manual.pdf', 'page': 0}\n",
            "page_content='reboot\\nhalt Stop all processes - same as above' metadata={'source': 'example_data/The One Page Linux Manual.pdf', 'page': 0}\n",
            "page_content='shutdown -r 5 Shutdown the system in 5 minutes' metadata={'source': 'example_data/The One Page Linux Manual.pdf', 'page': 0}\n",
            "page_content='5 minutes and' metadata={'source': 'example_data/The One Page Linux Manual.pdf', 'page': 0}\n",
            "page_content='reboot' metadata={'source': 'example_data/The One Page Linux Manual.pdf', 'page': 0}\n",
            "page_content='shutdown -r now Shutdown the system now and' metadata={'source': 'example_data/The One Page Linux Manual.pdf', 'page': 0}\n",
            "page_content='now and reboot' metadata={'source': 'example_data/The One Page Linux Manual.pdf', 'page': 0}\n",
            "page_content='reboot Stop all processes and then reboot - same' metadata={'source': 'example_data/The One Page Linux Manual.pdf', 'page': 0}\n",
            "page_content='as above\\nstartx Start the X system' metadata={'source': 'example_data/The One Page Linux Manual.pdf', 'page': 0}\n",
            "page_content='Accessing & mounting file systems' metadata={'source': 'example_data/The One Page Linux Manual.pdf', 'page': 0}\n",
            "page_content='mount -t iso9660 /dev/cdrom' metadata={'source': 'example_data/The One Page Linux Manual.pdf', 'page': 0}\n",
            "page_content='/mnt/cdromMount the device cdrom' metadata={'source': 'example_data/The One Page Linux Manual.pdf', 'page': 0}\n",
            "page_content='and call it cdrom under the\\n/mnt directory' metadata={'source': 'example_data/The One Page Linux Manual.pdf', 'page': 0}\n",
            "page_content='mount -t msdos /dev/hdd' metadata={'source': 'example_data/The One Page Linux Manual.pdf', 'page': 0}\n",
            "page_content='/mnt/ddriveMount hard disk “d” as a' metadata={'source': 'example_data/The One Page Linux Manual.pdf', 'page': 0}\n",
            "page_content='msdos file system and call' metadata={'source': 'example_data/The One Page Linux Manual.pdf', 'page': 0}\n",
            "page_content='it ddrive under the /mnt\\ndirectory' metadata={'source': 'example_data/The One Page Linux Manual.pdf', 'page': 0}\n",
            "page_content='directory\\nmount -t vfat /dev/hda1' metadata={'source': 'example_data/The One Page Linux Manual.pdf', 'page': 0}\n",
            "page_content='/mnt/cdriveMount hard disk “a” as a' metadata={'source': 'example_data/The One Page Linux Manual.pdf', 'page': 0}\n",
            "page_content='VFAT file system and call it' metadata={'source': 'example_data/The One Page Linux Manual.pdf', 'page': 0}\n",
            "page_content='cdrive under the /mnt\\ndirectory' metadata={'source': 'example_data/The One Page Linux Manual.pdf', 'page': 0}\n",
            "page_content='directory\\numount /mnt/cdrom Unmount the cdrom' metadata={'source': 'example_data/The One Page Linux Manual.pdf', 'page': 0}\n",
            "page_content='Finding files and text within files' metadata={'source': 'example_data/The One Page Linux Manual.pdf', 'page': 0}\n",
            "page_content='find / -name  fname Starting with the root' metadata={'source': 'example_data/The One Page Linux Manual.pdf', 'page': 0}\n",
            "page_content='the root directory, look' metadata={'source': 'example_data/The One Page Linux Manual.pdf', 'page': 0}\n",
            "page_content='for the file called fname' metadata={'source': 'example_data/The One Page Linux Manual.pdf', 'page': 0}\n",
            "page_content='find / -name ”*fname* ” Starting with the root' metadata={'source': 'example_data/The One Page Linux Manual.pdf', 'page': 0}\n",
            "page_content='the root directory, look' metadata={'source': 'example_data/The One Page Linux Manual.pdf', 'page': 0}\n",
            "page_content='for the file containing the string fname' metadata={'source': 'example_data/The One Page Linux Manual.pdf', 'page': 0}\n",
            "page_content='locate missingfilename Find a file called' metadata={'source': 'example_data/The One Page Linux Manual.pdf', 'page': 0}\n",
            "page_content='called missingfilename' metadata={'source': 'example_data/The One Page Linux Manual.pdf', 'page': 0}\n",
            "page_content='using the locate command - this' metadata={'source': 'example_data/The One Page Linux Manual.pdf', 'page': 0}\n",
            "page_content='assumes you have already used the' metadata={'source': 'example_data/The One Page Linux Manual.pdf', 'page': 0}\n",
            "page_content='command updatedb (see next)' metadata={'source': 'example_data/The One Page Linux Manual.pdf', 'page': 0}\n",
            "page_content='updatedb Create or update the database of files' metadata={'source': 'example_data/The One Page Linux Manual.pdf', 'page': 0}\n",
            "page_content='on all file systems attached to the linux' metadata={'source': 'example_data/The One Page Linux Manual.pdf', 'page': 0}\n",
            "page_content='root directory' metadata={'source': 'example_data/The One Page Linux Manual.pdf', 'page': 0}\n",
            "page_content='which missingfilename Show the subdirectory' metadata={'source': 'example_data/The One Page Linux Manual.pdf', 'page': 0}\n",
            "page_content='containing the' metadata={'source': 'example_data/The One Page Linux Manual.pdf', 'page': 0}\n",
            "page_content='executable file  called missingfilename' metadata={'source': 'example_data/The One Page Linux Manual.pdf', 'page': 0}\n",
            "page_content='grep textstringtofind' metadata={'source': 'example_data/The One Page Linux Manual.pdf', 'page': 0}\n",
            "page_content='/dirStarting with the directory called dir ,' metadata={'source': 'example_data/The One Page Linux Manual.pdf', 'page': 0}\n",
            "page_content='look for and list all files containing' metadata={'source': 'example_data/The One Page Linux Manual.pdf', 'page': 0}\n",
            "page_content='textstringtofind\\nThe X Window System' metadata={'source': 'example_data/The One Page Linux Manual.pdf', 'page': 0}\n",
            "page_content='xvidtune Run the X graphics tuning utility' metadata={'source': 'example_data/The One Page Linux Manual.pdf', 'page': 0}\n",
            "page_content='XF86Setup Run the X configuration menu with' metadata={'source': 'example_data/The One Page Linux Manual.pdf', 'page': 0}\n",
            "page_content='automatic probing of graphics cards' metadata={'source': 'example_data/The One Page Linux Manual.pdf', 'page': 0}\n",
            "page_content='Xconfigurator Run another X configuration menu' metadata={'source': 'example_data/The One Page Linux Manual.pdf', 'page': 0}\n",
            "page_content='menu with' metadata={'source': 'example_data/The One Page Linux Manual.pdf', 'page': 0}\n",
            "page_content='automatic probing of graphics cards' metadata={'source': 'example_data/The One Page Linux Manual.pdf', 'page': 0}\n",
            "page_content='xf86config Run a text based X configuration menu' metadata={'source': 'example_data/The One Page Linux Manual.pdf', 'page': 0}\n",
            "page_content='Moving, copying, deleting & viewing files' metadata={'source': 'example_data/The One Page Linux Manual.pdf', 'page': 0}\n",
            "page_content='ls -l List files in current directory using' metadata={'source': 'example_data/The One Page Linux Manual.pdf', 'page': 0}\n",
            "page_content='long format' metadata={'source': 'example_data/The One Page Linux Manual.pdf', 'page': 0}\n",
            "page_content='ls -F List files in current directory and' metadata={'source': 'example_data/The One Page Linux Manual.pdf', 'page': 0}\n",
            "page_content='indicate the file type' metadata={'source': 'example_data/The One Page Linux Manual.pdf', 'page': 0}\n",
            "page_content='ls -laC List all files in current directory in' metadata={'source': 'example_data/The One Page Linux Manual.pdf', 'page': 0}\n",
            "page_content='long format and display in columnsrm name Remove' metadata={'source': 'example_data/The One Page Linux Manual.pdf', 'page': 0}\n",
            "page_content='Remove a file or directory called' metadata={'source': 'example_data/The One Page Linux Manual.pdf', 'page': 0}\n",
            "page_content='name' metadata={'source': 'example_data/The One Page Linux Manual.pdf', 'page': 0}\n",
            "page_content='rm -rf name Kill off an entire directory and all' metadata={'source': 'example_data/The One Page Linux Manual.pdf', 'page': 0}\n",
            "page_content='and all it’s' metadata={'source': 'example_data/The One Page Linux Manual.pdf', 'page': 0}\n",
            "page_content='includes files and subdirectories\\ncp filename' metadata={'source': 'example_data/The One Page Linux Manual.pdf', 'page': 0}\n",
            "page_content='/home/dirnameCopy the file called filename to the' metadata={'source': 'example_data/The One Page Linux Manual.pdf', 'page': 0}\n",
            "page_content='/home/dirname directory\\nmv filename' metadata={'source': 'example_data/The One Page Linux Manual.pdf', 'page': 0}\n",
            "page_content='/home/dirnameMove the file called filename to the' metadata={'source': 'example_data/The One Page Linux Manual.pdf', 'page': 0}\n",
            "page_content='/home/dirname directory' metadata={'source': 'example_data/The One Page Linux Manual.pdf', 'page': 0}\n",
            "page_content='cat filetoview Display the file called filetoview' metadata={'source': 'example_data/The One Page Linux Manual.pdf', 'page': 0}\n",
            "page_content='man -k keyword Display man pages containing' metadata={'source': 'example_data/The One Page Linux Manual.pdf', 'page': 0}\n",
            "page_content='keyword' metadata={'source': 'example_data/The One Page Linux Manual.pdf', 'page': 0}\n",
            "page_content='more filetoview Display the file called' metadata={'source': 'example_data/The One Page Linux Manual.pdf', 'page': 0}\n",
            "page_content='called filetoview one' metadata={'source': 'example_data/The One Page Linux Manual.pdf', 'page': 0}\n",
            "page_content='page at a time, proceed to next page' metadata={'source': 'example_data/The One Page Linux Manual.pdf', 'page': 0}\n",
            "page_content='using the spacebar' metadata={'source': 'example_data/The One Page Linux Manual.pdf', 'page': 0}\n",
            "page_content='head filetoview Display the first 10 lines of the' metadata={'source': 'example_data/The One Page Linux Manual.pdf', 'page': 0}\n",
            "page_content='of the file' metadata={'source': 'example_data/The One Page Linux Manual.pdf', 'page': 0}\n",
            "page_content='called filetoview' metadata={'source': 'example_data/The One Page Linux Manual.pdf', 'page': 0}\n",
            "page_content='head -20 filetoview Display the first 20 lines of' metadata={'source': 'example_data/The One Page Linux Manual.pdf', 'page': 0}\n",
            "page_content='lines of the file' metadata={'source': 'example_data/The One Page Linux Manual.pdf', 'page': 0}\n",
            "page_content='called filetoview' metadata={'source': 'example_data/The One Page Linux Manual.pdf', 'page': 0}\n",
            "page_content='tail filetoview Display the last 10 lines of the' metadata={'source': 'example_data/The One Page Linux Manual.pdf', 'page': 0}\n",
            "page_content='of the file' metadata={'source': 'example_data/The One Page Linux Manual.pdf', 'page': 0}\n",
            "page_content='called filetoview' metadata={'source': 'example_data/The One Page Linux Manual.pdf', 'page': 0}\n",
            "page_content='tail -20 filetoview Display the last 20 lines of' metadata={'source': 'example_data/The One Page Linux Manual.pdf', 'page': 0}\n",
            "page_content='lines of the file' metadata={'source': 'example_data/The One Page Linux Manual.pdf', 'page': 0}\n",
            "page_content='called filetoview\\nInstalling software for Linux' metadata={'source': 'example_data/The One Page Linux Manual.pdf', 'page': 0}\n",
            "page_content='rpm -ihv name.rpm Install the rpm package called' metadata={'source': 'example_data/The One Page Linux Manual.pdf', 'page': 0}\n",
            "page_content='called name' metadata={'source': 'example_data/The One Page Linux Manual.pdf', 'page': 0}\n",
            "page_content='rpm -Uhv name.rpm Upgrade the rpm package called' metadata={'source': 'example_data/The One Page Linux Manual.pdf', 'page': 0}\n",
            "page_content='name\\nrpm -e package Delete the rpm package called' metadata={'source': 'example_data/The One Page Linux Manual.pdf', 'page': 0}\n",
            "page_content='package' metadata={'source': 'example_data/The One Page Linux Manual.pdf', 'page': 0}\n",
            "page_content='rpm -l package List the files in the package' metadata={'source': 'example_data/The One Page Linux Manual.pdf', 'page': 0}\n",
            "page_content='package called' metadata={'source': 'example_data/The One Page Linux Manual.pdf', 'page': 0}\n",
            "page_content='package' metadata={'source': 'example_data/The One Page Linux Manual.pdf', 'page': 0}\n",
            "page_content='rpm -ql package List the files and state the' metadata={'source': 'example_data/The One Page Linux Manual.pdf', 'page': 0}\n",
            "page_content='state the installed' metadata={'source': 'example_data/The One Page Linux Manual.pdf', 'page': 0}\n",
            "page_content='version of the package called\\npackage' metadata={'source': 'example_data/The One Page Linux Manual.pdf', 'page': 0}\n",
            "page_content='rpm -i --force package Reinstall the rpm package' metadata={'source': 'example_data/The One Page Linux Manual.pdf', 'page': 0}\n",
            "page_content='package called' metadata={'source': 'example_data/The One Page Linux Manual.pdf', 'page': 0}\n",
            "page_content='name having deleted parts of it (not' metadata={'source': 'example_data/The One Page Linux Manual.pdf', 'page': 0}\n",
            "page_content='deleting using rpm -e)' metadata={'source': 'example_data/The One Page Linux Manual.pdf', 'page': 0}\n",
            "page_content='tar -zxvf archive.tar.gz or' metadata={'source': 'example_data/The One Page Linux Manual.pdf', 'page': 0}\n",
            "page_content='tar -zxvf archive.tgzDecompress the files' metadata={'source': 'example_data/The One Page Linux Manual.pdf', 'page': 0}\n",
            "page_content='the files contained in' metadata={'source': 'example_data/The One Page Linux Manual.pdf', 'page': 0}\n",
            "page_content='the zipped and tarred archive called\\narchive' metadata={'source': 'example_data/The One Page Linux Manual.pdf', 'page': 0}\n",
            "page_content='./configure Execute the script preparing the' metadata={'source': 'example_data/The One Page Linux Manual.pdf', 'page': 0}\n",
            "page_content='installed files for compiling\\nUser Administration' metadata={'source': 'example_data/The One Page Linux Manual.pdf', 'page': 0}\n",
            "page_content='adduser accountname Create a new user call' metadata={'source': 'example_data/The One Page Linux Manual.pdf', 'page': 0}\n",
            "page_content='user call accountname' metadata={'source': 'example_data/The One Page Linux Manual.pdf', 'page': 0}\n",
            "page_content='passwd accountname Give accountname a new' metadata={'source': 'example_data/The One Page Linux Manual.pdf', 'page': 0}\n",
            "page_content='a new password' metadata={'source': 'example_data/The One Page Linux Manual.pdf', 'page': 0}\n",
            "page_content='su Log in as superuser from current login' metadata={'source': 'example_data/The One Page Linux Manual.pdf', 'page': 0}\n",
            "page_content='exit Stop being superuser and revert to' metadata={'source': 'example_data/The One Page Linux Manual.pdf', 'page': 0}\n",
            "page_content='normal user\\nLittle known tips and tricks' metadata={'source': 'example_data/The One Page Linux Manual.pdf', 'page': 0}\n",
            "page_content='ifconfig List ip addresses for all devices on' metadata={'source': 'example_data/The One Page Linux Manual.pdf', 'page': 0}\n",
            "page_content='the machine' metadata={'source': 'example_data/The One Page Linux Manual.pdf', 'page': 0}\n",
            "page_content='apropos subject List manual pages for subject' metadata={'source': 'example_data/The One Page Linux Manual.pdf', 'page': 0}\n",
            "page_content='usermount Executes graphical application for' metadata={'source': 'example_data/The One Page Linux Manual.pdf', 'page': 0}\n",
            "page_content='mounting and unmounting file\\nsystems' metadata={'source': 'example_data/The One Page Linux Manual.pdf', 'page': 0}\n",
            "page_content='/sbin/e2fsck hda5 Execute the filesystem check' metadata={'source': 'example_data/The One Page Linux Manual.pdf', 'page': 1}\n",
            "page_content='check utility' metadata={'source': 'example_data/The One Page Linux Manual.pdf', 'page': 1}\n",
            "page_content='on partition hda5' metadata={'source': 'example_data/The One Page Linux Manual.pdf', 'page': 1}\n",
            "page_content='fdformat /dev/fd0H1440 Format the floppy disk in' metadata={'source': 'example_data/The One Page Linux Manual.pdf', 'page': 1}\n",
            "page_content='disk in device fd0' metadata={'source': 'example_data/The One Page Linux Manual.pdf', 'page': 1}\n",
            "page_content='tar -cMf /dev/fd0 Backup the contents of the' metadata={'source': 'example_data/The One Page Linux Manual.pdf', 'page': 1}\n",
            "page_content='of the current' metadata={'source': 'example_data/The One Page Linux Manual.pdf', 'page': 1}\n",
            "page_content='directory and subdirectories to' metadata={'source': 'example_data/The One Page Linux Manual.pdf', 'page': 1}\n",
            "page_content='multiple floppy disks' metadata={'source': 'example_data/The One Page Linux Manual.pdf', 'page': 1}\n",
            "page_content='tail -f /var/log/messages Display the last 10' metadata={'source': 'example_data/The One Page Linux Manual.pdf', 'page': 1}\n",
            "page_content='last 10 lines of the system' metadata={'source': 'example_data/The One Page Linux Manual.pdf', 'page': 1}\n",
            "page_content='log.' metadata={'source': 'example_data/The One Page Linux Manual.pdf', 'page': 1}\n",
            "page_content='cat /var/log/dmesg Display the file containing' metadata={'source': 'example_data/The One Page Linux Manual.pdf', 'page': 1}\n",
            "page_content='the boot' metadata={'source': 'example_data/The One Page Linux Manual.pdf', 'page': 1}\n",
            "page_content='time messages - useful for locating' metadata={'source': 'example_data/The One Page Linux Manual.pdf', 'page': 1}\n",
            "page_content='problems. Alternatively, use the\\ndmesg  command.' metadata={'source': 'example_data/The One Page Linux Manual.pdf', 'page': 1}\n",
            "page_content='* wildcard - represents everything. eg.' metadata={'source': 'example_data/The One Page Linux Manual.pdf', 'page': 1}\n",
            "page_content='cp from/* to  will copy all files in the' metadata={'source': 'example_data/The One Page Linux Manual.pdf', 'page': 1}\n",
            "page_content='from directory to the to directory' metadata={'source': 'example_data/The One Page Linux Manual.pdf', 'page': 1}\n",
            "page_content='? Single character wildcard. eg.' metadata={'source': 'example_data/The One Page Linux Manual.pdf', 'page': 1}\n",
            "page_content='cp config.? /configs will copy all files' metadata={'source': 'example_data/The One Page Linux Manual.pdf', 'page': 1}\n",
            "page_content='beginning with the name config. in' metadata={'source': 'example_data/The One Page Linux Manual.pdf', 'page': 1}\n",
            "page_content='the current directory to the directory' metadata={'source': 'example_data/The One Page Linux Manual.pdf', 'page': 1}\n",
            "page_content='named configs.' metadata={'source': 'example_data/The One Page Linux Manual.pdf', 'page': 1}\n",
            "page_content='[xyz] Choice of character wildcards. eg.' metadata={'source': 'example_data/The One Page Linux Manual.pdf', 'page': 1}\n",
            "page_content='ls [xyz]* will list all files in the current' metadata={'source': 'example_data/The One Page Linux Manual.pdf', 'page': 1}\n",
            "page_content='directory starting with the letter x, y,\\nor z.' metadata={'source': 'example_data/The One Page Linux Manual.pdf', 'page': 1}\n",
            "page_content='linux single At the lilo prompt, start in single' metadata={'source': 'example_data/The One Page Linux Manual.pdf', 'page': 1}\n",
            "page_content='in single user' metadata={'source': 'example_data/The One Page Linux Manual.pdf', 'page': 1}\n",
            "page_content='mode. This is useful if you have' metadata={'source': 'example_data/The One Page Linux Manual.pdf', 'page': 1}\n",
            "page_content='forgotten your password. Boot in' metadata={'source': 'example_data/The One Page Linux Manual.pdf', 'page': 1}\n",
            "page_content='single user mode, then run the\\npasswd  command.' metadata={'source': 'example_data/The One Page Linux Manual.pdf', 'page': 1}\n",
            "page_content='ps List current processes' metadata={'source': 'example_data/The One Page Linux Manual.pdf', 'page': 1}\n",
            "page_content='kill 123 Kill a specific process eg. kill 123' metadata={'source': 'example_data/The One Page Linux Manual.pdf', 'page': 1}\n",
            "page_content='Configuration files and what they do' metadata={'source': 'example_data/The One Page Linux Manual.pdf', 'page': 1}\n",
            "page_content='/etc/profile System wide environment variables' metadata={'source': 'example_data/The One Page Linux Manual.pdf', 'page': 1}\n",
            "page_content='variables for' metadata={'source': 'example_data/The One Page Linux Manual.pdf', 'page': 1}\n",
            "page_content='all users.' metadata={'source': 'example_data/The One Page Linux Manual.pdf', 'page': 1}\n",
            "page_content='/etc/fstab List of devices and their associated' metadata={'source': 'example_data/The One Page Linux Manual.pdf', 'page': 1}\n",
            "page_content='mount' metadata={'source': 'example_data/The One Page Linux Manual.pdf', 'page': 1}\n",
            "page_content='points. Edit this file to add cdroms, DOS' metadata={'source': 'example_data/The One Page Linux Manual.pdf', 'page': 1}\n",
            "page_content='partitions and floppy drives at startup.' metadata={'source': 'example_data/The One Page Linux Manual.pdf', 'page': 1}\n",
            "page_content='/etc/motd Message of the day broadcast to all' metadata={'source': 'example_data/The One Page Linux Manual.pdf', 'page': 1}\n",
            "page_content='to all users' metadata={'source': 'example_data/The One Page Linux Manual.pdf', 'page': 1}\n",
            "page_content='at login.' metadata={'source': 'example_data/The One Page Linux Manual.pdf', 'page': 1}\n",
            "page_content='etc/rc.d/rc.local Bash script that is executed at' metadata={'source': 'example_data/The One Page Linux Manual.pdf', 'page': 1}\n",
            "page_content='at the end of' metadata={'source': 'example_data/The One Page Linux Manual.pdf', 'page': 1}\n",
            "page_content='login process. Similar to autoexec.bat in\\nDOS.' metadata={'source': 'example_data/The One Page Linux Manual.pdf', 'page': 1}\n",
            "page_content='/etc/HOSTNAME Conatins full hostname including' metadata={'source': 'example_data/The One Page Linux Manual.pdf', 'page': 1}\n",
            "page_content='including domain.' metadata={'source': 'example_data/The One Page Linux Manual.pdf', 'page': 1}\n",
            "page_content='/etc/cron.* There are 4 directories that' metadata={'source': 'example_data/The One Page Linux Manual.pdf', 'page': 1}\n",
            "page_content='that automatically' metadata={'source': 'example_data/The One Page Linux Manual.pdf', 'page': 1}\n",
            "page_content='execute all scripts within the directory at' metadata={'source': 'example_data/The One Page Linux Manual.pdf', 'page': 1}\n",
            "page_content='intervals of hour, day, week or month.' metadata={'source': 'example_data/The One Page Linux Manual.pdf', 'page': 1}\n",
            "page_content='/etc/hosts A list of all know host names and IP' metadata={'source': 'example_data/The One Page Linux Manual.pdf', 'page': 1}\n",
            "page_content='addresses on the machine.' metadata={'source': 'example_data/The One Page Linux Manual.pdf', 'page': 1}\n",
            "page_content='/etc/httpd/conf Paramters for the Apache web' metadata={'source': 'example_data/The One Page Linux Manual.pdf', 'page': 1}\n",
            "page_content='web server' metadata={'source': 'example_data/The One Page Linux Manual.pdf', 'page': 1}\n",
            "page_content='/etc/inittab Specifies the run level that the' metadata={'source': 'example_data/The One Page Linux Manual.pdf', 'page': 1}\n",
            "page_content='that the machine' metadata={'source': 'example_data/The One Page Linux Manual.pdf', 'page': 1}\n",
            "page_content='should boot into.' metadata={'source': 'example_data/The One Page Linux Manual.pdf', 'page': 1}\n",
            "page_content='/etc/resolv.conf Defines IP addresses of DNS' metadata={'source': 'example_data/The One Page Linux Manual.pdf', 'page': 1}\n",
            "page_content='of DNS servers.' metadata={'source': 'example_data/The One Page Linux Manual.pdf', 'page': 1}\n",
            "page_content='/etc/smb.conf Config file for the SAMBA server.' metadata={'source': 'example_data/The One Page Linux Manual.pdf', 'page': 1}\n",
            "page_content='server. Allows' metadata={'source': 'example_data/The One Page Linux Manual.pdf', 'page': 1}\n",
            "page_content='file and print sharing with Microsoft\\nclients.' metadata={'source': 'example_data/The One Page Linux Manual.pdf', 'page': 1}\n",
            "page_content='clients.\\n/etc/X11/XF86Confi' metadata={'source': 'example_data/The One Page Linux Manual.pdf', 'page': 1}\n",
            "page_content='gConfig file for X -Windows.' metadata={'source': 'example_data/The One Page Linux Manual.pdf', 'page': 1}\n",
            "page_content='~/.xinitrc Defines the windows manager loaded by' metadata={'source': 'example_data/The One Page Linux Manual.pdf', 'page': 1}\n",
            "page_content='X. ~ refers to user’s home directory.File' metadata={'source': 'example_data/The One Page Linux Manual.pdf', 'page': 1}\n",
            "page_content='permissions' metadata={'source': 'example_data/The One Page Linux Manual.pdf', 'page': 1}\n",
            "page_content='If the command ls -l is given, a long list of' metadata={'source': 'example_data/The One Page Linux Manual.pdf', 'page': 1}\n",
            "page_content='list of file names is' metadata={'source': 'example_data/The One Page Linux Manual.pdf', 'page': 1}\n",
            "page_content='displayed. The first column in this list details' metadata={'source': 'example_data/The One Page Linux Manual.pdf', 'page': 1}\n",
            "page_content='details the permissions' metadata={'source': 'example_data/The One Page Linux Manual.pdf', 'page': 1}\n",
            "page_content='applying to the file. If a permission is missing' metadata={'source': 'example_data/The One Page Linux Manual.pdf', 'page': 1}\n",
            "page_content='missing for a owner,' metadata={'source': 'example_data/The One Page Linux Manual.pdf', 'page': 1}\n",
            "page_content='group of other, it is represented by - eg.  drwxr' metadata={'source': 'example_data/The One Page Linux Manual.pdf', 'page': 1}\n",
            "page_content='drwxr -x—x' metadata={'source': 'example_data/The One Page Linux Manual.pdf', 'page': 1}\n",
            "page_content='Read = 4\\nWrite = 2' metadata={'source': 'example_data/The One Page Linux Manual.pdf', 'page': 1}\n",
            "page_content='Execute = 1File permissions are altered by giving' metadata={'source': 'example_data/The One Page Linux Manual.pdf', 'page': 1}\n",
            "page_content='by giving the' metadata={'source': 'example_data/The One Page Linux Manual.pdf', 'page': 1}\n",
            "page_content='chmod command and the appropriate' metadata={'source': 'example_data/The One Page Linux Manual.pdf', 'page': 1}\n",
            "page_content='octal code for each user type. eg' metadata={'source': 'example_data/The One Page Linux Manual.pdf', 'page': 1}\n",
            "page_content='chmod 7 6 4 filename will make the file' metadata={'source': 'example_data/The One Page Linux Manual.pdf', 'page': 1}\n",
            "page_content='called filename R+W+X for the owner,' metadata={'source': 'example_data/The One Page Linux Manual.pdf', 'page': 1}\n",
            "page_content='R+W for the group and R for others.' metadata={'source': 'example_data/The One Page Linux Manual.pdf', 'page': 1}\n",
            "page_content='chmod 7 5 5 Full permission for the owner, read' metadata={'source': 'example_data/The One Page Linux Manual.pdf', 'page': 1}\n",
            "page_content='read and' metadata={'source': 'example_data/The One Page Linux Manual.pdf', 'page': 1}\n",
            "page_content='execute access for the group and others.' metadata={'source': 'example_data/The One Page Linux Manual.pdf', 'page': 1}\n",
            "page_content='chmod +x filename Make the file called filename' metadata={'source': 'example_data/The One Page Linux Manual.pdf', 'page': 1}\n",
            "page_content='filename executable' metadata={'source': 'example_data/The One Page Linux Manual.pdf', 'page': 1}\n",
            "page_content='to all users.\\nX Shortcuts - (mainly for Redhat)' metadata={'source': 'example_data/The One Page Linux Manual.pdf', 'page': 1}\n",
            "page_content='Control|Alt  + or - Increase or decrease the' metadata={'source': 'example_data/The One Page Linux Manual.pdf', 'page': 1}\n",
            "page_content='the screen' metadata={'source': 'example_data/The One Page Linux Manual.pdf', 'page': 1}\n",
            "page_content='resolution. eg. from 640x480 to\\n800x600' metadata={'source': 'example_data/The One Page Linux Manual.pdf', 'page': 1}\n",
            "page_content='Alt | escape Display list of active windows' metadata={'source': 'example_data/The One Page Linux Manual.pdf', 'page': 1}\n",
            "page_content='Shift|Control F8 Resize the selected window' metadata={'source': 'example_data/The One Page Linux Manual.pdf', 'page': 1}\n",
            "page_content='Right click on desktop\\nbackgroundDisplay menu' metadata={'source': 'example_data/The One Page Linux Manual.pdf', 'page': 1}\n",
            "page_content='Shift|Control Altr Refresh the screen' metadata={'source': 'example_data/The One Page Linux Manual.pdf', 'page': 1}\n",
            "page_content='Shift|Control Altx Start an xterm session' metadata={'source': 'example_data/The One Page Linux Manual.pdf', 'page': 1}\n",
            "page_content='Printing' metadata={'source': 'example_data/The One Page Linux Manual.pdf', 'page': 1}\n",
            "page_content='/etc/rc.d/init.d/lpd start Start the print daemon' metadata={'source': 'example_data/The One Page Linux Manual.pdf', 'page': 1}\n",
            "page_content='/etc/rc.d/init.d/lpd stop Stop the print daemon' metadata={'source': 'example_data/The One Page Linux Manual.pdf', 'page': 1}\n",
            "page_content='/etc/rc.d/init.d/lpd' metadata={'source': 'example_data/The One Page Linux Manual.pdf', 'page': 1}\n",
            "page_content='statusDisplay status of the print daemon' metadata={'source': 'example_data/The One Page Linux Manual.pdf', 'page': 1}\n",
            "page_content='lpq Display jobs in print queue' metadata={'source': 'example_data/The One Page Linux Manual.pdf', 'page': 1}\n",
            "page_content='lprm Remove jobs from queue\\nlpr Print a file' metadata={'source': 'example_data/The One Page Linux Manual.pdf', 'page': 1}\n",
            "page_content='lpc Printer control tool' metadata={'source': 'example_data/The One Page Linux Manual.pdf', 'page': 1}\n",
            "page_content='man subject | lpr Print the manual page called' metadata={'source': 'example_data/The One Page Linux Manual.pdf', 'page': 1}\n",
            "page_content='called subject' metadata={'source': 'example_data/The One Page Linux Manual.pdf', 'page': 1}\n",
            "page_content='as plain text' metadata={'source': 'example_data/The One Page Linux Manual.pdf', 'page': 1}\n",
            "page_content='man -t subject | lpr Print the manual page called' metadata={'source': 'example_data/The One Page Linux Manual.pdf', 'page': 1}\n",
            "page_content='called subject' metadata={'source': 'example_data/The One Page Linux Manual.pdf', 'page': 1}\n",
            "page_content='as Postscript output' metadata={'source': 'example_data/The One Page Linux Manual.pdf', 'page': 1}\n",
            "page_content='printtool Start X printer setup' metadata={'source': 'example_data/The One Page Linux Manual.pdf', 'page': 1}\n",
            "page_content='setup interface~/.Xdefaults Define configuration' metadata={'source': 'example_data/The One Page Linux Manual.pdf', 'page': 1}\n",
            "page_content='for some X -' metadata={'source': 'example_data/The One Page Linux Manual.pdf', 'page': 1}\n",
            "page_content='applications. ~ refers to user’s home\\ndirectory.' metadata={'source': 'example_data/The One Page Linux Manual.pdf', 'page': 1}\n",
            "page_content='Get your own Official Linux Pocket Protector -' metadata={'source': 'example_data/The One Page Linux Manual.pdf', 'page': 1}\n",
            "page_content='- includes' metadata={'source': 'example_data/The One Page Linux Manual.pdf', 'page': 1}\n",
            "page_content='handy command summary. Visit:' metadata={'source': 'example_data/The One Page Linux Manual.pdf', 'page': 1}\n",
            "page_content='www.powerup.com.au/~squadron' metadata={'source': 'example_data/The One Page Linux Manual.pdf', 'page': 1}\n"
          ]
        }
      ],
      "source": [
        "from langchain.document_loaders import PyPDFLoader\n",
        "from langchain.text_splitter import RecursiveCharacterTextSplitter\n",
        "\n",
        "loader = PyPDFLoader(\"example_data/The One Page Linux Manual.pdf\")\n",
        "pages = loader.load_and_split()\n",
        "\n",
        "text_splitter = RecursiveCharacterTextSplitter(\n",
        "    chunk_size=50,\n",
        "    chunk_overlap=10,\n",
        "    length_function=len,\n",
        ")\n",
        "\n",
        "docs = text_splitter.split_documents(pages)\n",
        "for doc in docs:\n",
        "    print(doc)"
      ]
    },
    {
      "cell_type": "markdown",
      "metadata": {
        "id": "hdbQYMtpSVdQ"
      },
      "source": [
        "#======"
      ]
    },
    {
      "cell_type": "markdown",
      "metadata": {},
      "source": [
        "## NLTK Text Splitter"
      ]
    },
    {
      "cell_type": "code",
      "execution_count": 8,
      "metadata": {
        "colab": {
          "base_uri": "https://localhost:8080/"
        },
        "id": "iX4fHM6uSkoy",
        "outputId": "bb6e8a8d-35c4-4e8c-cf16-89bac2141758"
      },
      "outputs": [
        {
          "name": "stderr",
          "output_type": "stream",
          "text": [
            "[nltk_data] Downloading package punkt to\n",
            "[nltk_data]     C:\\Users\\Eddy.Tovar\\AppData\\Roaming\\nltk_data...\n",
            "[nltk_data]   Package punkt is already up-to-date!\n"
          ]
        },
        {
          "data": {
            "text/plain": [
              "True"
            ]
          },
          "execution_count": 8,
          "metadata": {},
          "output_type": "execute_result"
        }
      ],
      "source": [
        "import nltk\n",
        "nltk.download('punkt')"
      ]
    },
    {
      "cell_type": "code",
      "execution_count": null,
      "metadata": {
        "colab": {
          "base_uri": "https://localhost:8080/"
        },
        "id": "E4-grTQDR0QY",
        "outputId": "efa3aee6-f08b-407e-d752-d9b221d333fe"
      },
      "outputs": [
        {
          "name": "stdout",
          "output_type": "stream",
          "text": [
            "['Helllo, my name is Ala\\n Hello again\\n\\ntesting newline.']\n"
          ]
        }
      ],
      "source": [
        "# Load a long document\n",
        "with open('LLM.txt', encoding= 'unicode_escape') as f:\n",
        "    sample_text = f.read()\n",
        "\n",
        "from langchain.text_splitter import NLTKTextSplitter\n",
        "text_splitter = NLTKTextSplitter(chunk_size=500)\n",
        "\n",
        "\n",
        "texts = text_splitter.split_text(sample_text)\n",
        "print(texts)"
      ]
    },
    {
      "cell_type": "markdown",
      "metadata": {
        "id": "a5nzGYeLTbNm"
      },
      "source": [
        "#======"
      ]
    },
    {
      "cell_type": "markdown",
      "metadata": {},
      "source": [
        "## SpacyTextSplitter\n",
        "The SpacyTextSplitter helps split large text documents into smaller chunks based on a specified size. This is useful for better management of large text inputs. It's important to note that the SpacyTextSplitter is an alternative to NLTK-based sentence splitting. You can create a SpacyTextSplitter object by specifying the chunk_size parameter, measured by a length function passed to it, which defaults to the number of characters."
      ]
    },
    {
      "cell_type": "code",
      "execution_count": 11,
      "metadata": {
        "colab": {
          "base_uri": "https://localhost:8080/"
        },
        "id": "xooCnKxQSWnf",
        "outputId": "f6246710-1e99-4ae8-a009-4ffe5e87a44c"
      },
      "outputs": [
        {
          "ename": "OSError",
          "evalue": "[E050] Can't find model 'en_core_web_sm'. It doesn't seem to be a Python package or a valid path to a data directory.",
          "output_type": "error",
          "traceback": [
            "\u001b[1;31m---------------------------------------------------------------------------\u001b[0m",
            "\u001b[1;31mOSError\u001b[0m                                   Traceback (most recent call last)",
            "\u001b[1;32mc:\\Users\\Eddy.Tovar\\Documents\\Datos\\work\\PycharmProjects\\proyectos_personales\\cursos_llm\\activeloop_langchain_vector\\3-Indexes\\What_are_Text_Splitters_and_Why_They_are_Useful_.ipynb Cell 18\u001b[0m line \u001b[0;36m9\n\u001b[0;32m      <a href='vscode-notebook-cell:/c%3A/Users/Eddy.Tovar/Documents/Datos/work/PycharmProjects/proyectos_personales/cursos_llm/activeloop_langchain_vector/3-Indexes/What_are_Text_Splitters_and_Why_They_are_Useful_.ipynb#X21sZmlsZQ%3D%3D?line=5'>6</a>\u001b[0m     sample_text \u001b[39m=\u001b[39m f\u001b[39m.\u001b[39mread()\n\u001b[0;32m      <a href='vscode-notebook-cell:/c%3A/Users/Eddy.Tovar/Documents/Datos/work/PycharmProjects/proyectos_personales/cursos_llm/activeloop_langchain_vector/3-Indexes/What_are_Text_Splitters_and_Why_They_are_Useful_.ipynb#X21sZmlsZQ%3D%3D?line=7'>8</a>\u001b[0m \u001b[39m# Instantiate the SpacyTextSplitter with the desired chunk size\u001b[39;00m\n\u001b[1;32m----> <a href='vscode-notebook-cell:/c%3A/Users/Eddy.Tovar/Documents/Datos/work/PycharmProjects/proyectos_personales/cursos_llm/activeloop_langchain_vector/3-Indexes/What_are_Text_Splitters_and_Why_They_are_Useful_.ipynb#X21sZmlsZQ%3D%3D?line=8'>9</a>\u001b[0m text_splitter \u001b[39m=\u001b[39m SpacyTextSplitter(chunk_size\u001b[39m=\u001b[39;49m\u001b[39m500\u001b[39;49m, chunk_overlap\u001b[39m=\u001b[39;49m\u001b[39m20\u001b[39;49m)\n\u001b[0;32m     <a href='vscode-notebook-cell:/c%3A/Users/Eddy.Tovar/Documents/Datos/work/PycharmProjects/proyectos_personales/cursos_llm/activeloop_langchain_vector/3-Indexes/What_are_Text_Splitters_and_Why_They_are_Useful_.ipynb#X21sZmlsZQ%3D%3D?line=11'>12</a>\u001b[0m \u001b[39m# Split the text using SpacyTextSplitter\u001b[39;00m\n\u001b[0;32m     <a href='vscode-notebook-cell:/c%3A/Users/Eddy.Tovar/Documents/Datos/work/PycharmProjects/proyectos_personales/cursos_llm/activeloop_langchain_vector/3-Indexes/What_are_Text_Splitters_and_Why_They_are_Useful_.ipynb#X21sZmlsZQ%3D%3D?line=12'>13</a>\u001b[0m texts \u001b[39m=\u001b[39m text_splitter\u001b[39m.\u001b[39msplit_text(sample_text)\n",
            "File \u001b[1;32mc:\\Users\\Eddy.Tovar\\Documents\\Datos\\work\\PycharmProjects\\proyectos_personales\\cursos_llm\\activeloop_langchain_vector\\venv\\lib\\site-packages\\langchain\\text_splitter.py:1424\u001b[0m, in \u001b[0;36mSpacyTextSplitter.__init__\u001b[1;34m(self, separator, pipeline, max_length, **kwargs)\u001b[0m\n\u001b[0;32m   1422\u001b[0m \u001b[39m\u001b[39m\u001b[39m\"\"\"Initialize the spacy text splitter.\"\"\"\u001b[39;00m\n\u001b[0;32m   1423\u001b[0m \u001b[39msuper\u001b[39m()\u001b[39m.\u001b[39m\u001b[39m__init__\u001b[39m(\u001b[39m*\u001b[39m\u001b[39m*\u001b[39mkwargs)\n\u001b[1;32m-> 1424\u001b[0m \u001b[39mself\u001b[39m\u001b[39m.\u001b[39m_tokenizer \u001b[39m=\u001b[39m _make_spacy_pipeline_for_splitting(\n\u001b[0;32m   1425\u001b[0m     pipeline, max_length\u001b[39m=\u001b[39;49mmax_length\n\u001b[0;32m   1426\u001b[0m )\n\u001b[0;32m   1427\u001b[0m \u001b[39mself\u001b[39m\u001b[39m.\u001b[39m_separator \u001b[39m=\u001b[39m separator\n",
            "File \u001b[1;32mc:\\Users\\Eddy.Tovar\\Documents\\Datos\\work\\PycharmProjects\\proyectos_personales\\cursos_llm\\activeloop_langchain_vector\\venv\\lib\\site-packages\\langchain\\text_splitter.py:74\u001b[0m, in \u001b[0;36m_make_spacy_pipeline_for_splitting\u001b[1;34m(pipeline, max_length)\u001b[0m\n\u001b[0;32m     72\u001b[0m     sentencizer\u001b[39m.\u001b[39madd_pipe(\u001b[39m\"\u001b[39m\u001b[39msentencizer\u001b[39m\u001b[39m\"\u001b[39m)\n\u001b[0;32m     73\u001b[0m \u001b[39melse\u001b[39;00m:\n\u001b[1;32m---> 74\u001b[0m     sentencizer \u001b[39m=\u001b[39m spacy\u001b[39m.\u001b[39;49mload(pipeline, exclude\u001b[39m=\u001b[39;49m[\u001b[39m\"\u001b[39;49m\u001b[39mner\u001b[39;49m\u001b[39m\"\u001b[39;49m, \u001b[39m\"\u001b[39;49m\u001b[39mtagger\u001b[39;49m\u001b[39m\"\u001b[39;49m])\n\u001b[0;32m     75\u001b[0m     sentencizer\u001b[39m.\u001b[39mmax_length \u001b[39m=\u001b[39m max_length\n\u001b[0;32m     76\u001b[0m \u001b[39mreturn\u001b[39;00m sentencizer\n",
            "File \u001b[1;32mc:\\Users\\Eddy.Tovar\\Documents\\Datos\\work\\PycharmProjects\\proyectos_personales\\cursos_llm\\activeloop_langchain_vector\\venv\\lib\\site-packages\\spacy\\__init__.py:51\u001b[0m, in \u001b[0;36mload\u001b[1;34m(name, vocab, disable, enable, exclude, config)\u001b[0m\n\u001b[0;32m     27\u001b[0m \u001b[39mdef\u001b[39;00m \u001b[39mload\u001b[39m(\n\u001b[0;32m     28\u001b[0m     name: Union[\u001b[39mstr\u001b[39m, Path],\n\u001b[0;32m     29\u001b[0m     \u001b[39m*\u001b[39m,\n\u001b[1;32m   (...)\u001b[0m\n\u001b[0;32m     34\u001b[0m     config: Union[Dict[\u001b[39mstr\u001b[39m, Any], Config] \u001b[39m=\u001b[39m util\u001b[39m.\u001b[39mSimpleFrozenDict(),\n\u001b[0;32m     35\u001b[0m ) \u001b[39m-\u001b[39m\u001b[39m>\u001b[39m Language:\n\u001b[0;32m     36\u001b[0m \u001b[39m    \u001b[39m\u001b[39m\"\"\"Load a spaCy model from an installed package or a local path.\u001b[39;00m\n\u001b[0;32m     37\u001b[0m \n\u001b[0;32m     38\u001b[0m \u001b[39m    name (str): Package name or model path.\u001b[39;00m\n\u001b[1;32m   (...)\u001b[0m\n\u001b[0;32m     49\u001b[0m \u001b[39m    RETURNS (Language): The loaded nlp object.\u001b[39;00m\n\u001b[0;32m     50\u001b[0m \u001b[39m    \"\"\"\u001b[39;00m\n\u001b[1;32m---> 51\u001b[0m     \u001b[39mreturn\u001b[39;00m util\u001b[39m.\u001b[39;49mload_model(\n\u001b[0;32m     52\u001b[0m         name,\n\u001b[0;32m     53\u001b[0m         vocab\u001b[39m=\u001b[39;49mvocab,\n\u001b[0;32m     54\u001b[0m         disable\u001b[39m=\u001b[39;49mdisable,\n\u001b[0;32m     55\u001b[0m         enable\u001b[39m=\u001b[39;49menable,\n\u001b[0;32m     56\u001b[0m         exclude\u001b[39m=\u001b[39;49mexclude,\n\u001b[0;32m     57\u001b[0m         config\u001b[39m=\u001b[39;49mconfig,\n\u001b[0;32m     58\u001b[0m     )\n",
            "File \u001b[1;32mc:\\Users\\Eddy.Tovar\\Documents\\Datos\\work\\PycharmProjects\\proyectos_personales\\cursos_llm\\activeloop_langchain_vector\\venv\\lib\\site-packages\\spacy\\util.py:472\u001b[0m, in \u001b[0;36mload_model\u001b[1;34m(name, vocab, disable, enable, exclude, config)\u001b[0m\n\u001b[0;32m    470\u001b[0m \u001b[39mif\u001b[39;00m name \u001b[39min\u001b[39;00m OLD_MODEL_SHORTCUTS:\n\u001b[0;32m    471\u001b[0m     \u001b[39mraise\u001b[39;00m \u001b[39mIOError\u001b[39;00m(Errors\u001b[39m.\u001b[39mE941\u001b[39m.\u001b[39mformat(name\u001b[39m=\u001b[39mname, full\u001b[39m=\u001b[39mOLD_MODEL_SHORTCUTS[name]))  \u001b[39m# type: ignore[index]\u001b[39;00m\n\u001b[1;32m--> 472\u001b[0m \u001b[39mraise\u001b[39;00m \u001b[39mIOError\u001b[39;00m(Errors\u001b[39m.\u001b[39mE050\u001b[39m.\u001b[39mformat(name\u001b[39m=\u001b[39mname))\n",
            "\u001b[1;31mOSError\u001b[0m: [E050] Can't find model 'en_core_web_sm'. It doesn't seem to be a Python package or a valid path to a data directory."
          ]
        }
      ],
      "source": [
        "from langchain.text_splitter import SpacyTextSplitter\n",
        "\n",
        "\n",
        "# Load a long document\n",
        "with open('LLM.txt', encoding= 'unicode_escape') as f:\n",
        "    sample_text = f.read()\n",
        "\n",
        "# Instantiate the SpacyTextSplitter with the desired chunk size\n",
        "text_splitter = SpacyTextSplitter(chunk_size=500, chunk_overlap=20)\n",
        "\n",
        "\n",
        "# Split the text using SpacyTextSplitter\n",
        "texts = text_splitter.split_text(sample_text)\n",
        "\n",
        "# Print the first chunk\n",
        "print(texts)\n"
      ]
    },
    {
      "cell_type": "markdown",
      "metadata": {
        "id": "QTOsrDcQYjza"
      },
      "source": [
        "#====="
      ]
    },
    {
      "cell_type": "markdown",
      "metadata": {},
      "source": [
        "## The MarkdownTextSplitter \n",
        "\n",
        "is designed to split text written using Markdown languages like headers, code blocks, or dividers. It is implemented as a simple subclass of RecursiveCharacterSplitter with Markdown-specific separators."
      ]
    },
    {
      "cell_type": "markdown",
      "metadata": {},
      "source": [
        "#\n",
        "\n",
        "# Welcome to My Blog!\n",
        "\n",
        "## Introduction\n",
        "Hello everyone! My name is **John Doe** and I am a _software developer_. I specialize in Python, Java, and JavaScript.\n",
        "\n",
        "Here's a list of my favorite programming languages:\n",
        "\n",
        "1. Python\n",
        "2. JavaScript\n",
        "3. Java\n",
        "\n",
        "You can check out some of my projects on [GitHub](https://github.com).\n",
        "\n",
        "## About this Blog\n",
        "In this blog, I will share my journey as a software developer. I'll post tutorials, my thoughts on the latest technology trends, and occasional book reviews.\n",
        "\n",
        "Here's a small piece of Python code to say hello:\n",
        "\n",
        "\\``` python\n",
        "def say_hello(name):\n",
        "    print(f\"Hello, {name}!\")\n",
        "\n",
        "say_hello(\"John\")\n",
        "\\```\n",
        "\n",
        "Stay tuned for more updates!\n",
        "\n",
        "## Contact Me\n",
        "Feel free to reach out to me on [Twitter](https://twitter.com) or send me an email at johndoe@email.com.\n",
        "\n",
        "\"\"\""
      ]
    },
    {
      "cell_type": "code",
      "execution_count": 12,
      "metadata": {
        "colab": {
          "base_uri": "https://localhost:8080/"
        },
        "id": "rknT3Bk1Tb3z",
        "outputId": "f2cee5b7-4d85-4503-e84a-22c3264b08df"
      },
      "outputs": [
        {
          "name": "stdout",
          "output_type": "stream",
          "text": [
            "[Document(page_content='#\\n\\n# Welcome to My Blog!'), Document(page_content='## Introduction'), Document(page_content='Hello everyone! My name is **John Doe** and I am a _software developer_. I specialize in Python,'), Document(page_content='Java, and JavaScript.'), Document(page_content=\"Here's a list of my favorite programming languages:\\n\\n1. Python\\n2. JavaScript\\n3. Java\"), Document(page_content='You can check out some of my projects on [GitHub](https://github.com).'), Document(page_content='## About this Blog'), Document(page_content=\"In this blog, I will share my journey as a software developer. I'll post tutorials, my thoughts on\"), Document(page_content='the latest technology trends, and occasional book reviews.'), Document(page_content=\"Here's a small piece of Python code to say hello:\"), Document(page_content='\\\\``` python\\ndef say_hello(name):\\n    print(f\"Hello, {name}!\")\\n\\nsay_hello(\"John\")\\n\\\\'), Document(page_content='```\\n\\nStay tuned for more updates!'), Document(page_content='## Contact Me'), Document(page_content='Feel free to reach out to me on [Twitter](https://twitter.com) or send me an email at'), Document(page_content='johndoe@email.com.')]\n"
          ]
        }
      ],
      "source": [
        "from langchain.text_splitter import MarkdownTextSplitter\n",
        "markdown_text = \"\"\"\n",
        "#\n",
        "\n",
        "# Welcome to My Blog!\n",
        "\n",
        "## Introduction\n",
        "Hello everyone! My name is **John Doe** and I am a _software developer_. I specialize in Python, Java, and JavaScript.\n",
        "\n",
        "Here's a list of my favorite programming languages:\n",
        "\n",
        "1. Python\n",
        "2. JavaScript\n",
        "3. Java\n",
        "\n",
        "You can check out some of my projects on [GitHub](https://github.com).\n",
        "\n",
        "## About this Blog\n",
        "In this blog, I will share my journey as a software developer. I'll post tutorials, my thoughts on the latest technology trends, and occasional book reviews.\n",
        "\n",
        "Here's a small piece of Python code to say hello:\n",
        "\n",
        "\\``` python\n",
        "def say_hello(name):\n",
        "    print(f\"Hello, {name}!\")\n",
        "\n",
        "say_hello(\"John\")\n",
        "\\```\n",
        "\n",
        "Stay tuned for more updates!\n",
        "\n",
        "## Contact Me\n",
        "Feel free to reach out to me on [Twitter](https://twitter.com) or send me an email at johndoe@email.com.\n",
        "\n",
        "\"\"\"\n",
        "markdown_splitter = MarkdownTextSplitter(chunk_size=100, chunk_overlap=0)\n",
        "docs = markdown_splitter.create_documents([markdown_text])\n",
        "print(docs)"
      ]
    },
    {
      "cell_type": "markdown",
      "metadata": {
        "id": "FZ2g0KI2Zb-s"
      },
      "source": [
        "#====="
      ]
    },
    {
      "cell_type": "markdown",
      "metadata": {},
      "source": [
        "## TokenTextSplitter\n",
        "The main advantage of using TokenTextSplitter over other text splitters, like CharacterTextSplitter, is that it respects the token boundaries, ensuring that the chunks do not split tokens in the middle. This can be particularly helpful in maintaining the semantic integrity of the text when working with language models and embeddings."
      ]
    },
    {
      "cell_type": "code",
      "execution_count": 13,
      "metadata": {
        "colab": {
          "base_uri": "https://localhost:8080/"
        },
        "id": "MrZxTi2IYl94",
        "outputId": "3353aec4-d822-4752-c621-40b30d303b3b"
      },
      "outputs": [
        {
          "name": "stdout",
          "output_type": "stream",
          "text": [
            "\"Helllo, my name is Ala\n",
            " Hello again\n",
            "\n",
            "testing newline.\" \n",
            "\n"
          ]
        }
      ],
      "source": [
        "from langchain.text_splitter import TokenTextSplitter\n",
        "\n",
        "# Load a long document\n",
        "with open('LLM.txt', encoding= 'unicode_escape') as f:\n",
        "    sample_text = f.read()\n",
        "\n",
        "# Initialize the TokenTextSplitter with desired chunk size and overlap\n",
        "text_splitter = TokenTextSplitter(chunk_size=100, chunk_overlap=50)\n",
        "\n",
        "# Split into smaller chunks\n",
        "texts = text_splitter.split_text(sample_text)\n",
        "print(texts[0])"
      ]
    },
    {
      "cell_type": "code",
      "execution_count": null,
      "metadata": {
        "id": "GggTVv6oZeIh"
      },
      "outputs": [],
      "source": []
    }
  ],
  "metadata": {
    "colab": {
      "provenance": []
    },
    "kernelspec": {
      "display_name": "Python 3",
      "name": "python3"
    },
    "language_info": {
      "codemirror_mode": {
        "name": "ipython",
        "version": 3
      },
      "file_extension": ".py",
      "mimetype": "text/x-python",
      "name": "python",
      "nbconvert_exporter": "python",
      "pygments_lexer": "ipython3",
      "version": "3.9.13"
    }
  },
  "nbformat": 4,
  "nbformat_minor": 0
}
