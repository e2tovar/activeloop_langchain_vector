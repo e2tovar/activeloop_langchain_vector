{
  "cells": [
    {
      "cell_type": "code",
      "execution_count": 1,
      "metadata": {
        "colab": {
          "base_uri": "https://localhost:8080/"
        },
        "id": "XOgAy2kF00W8",
        "outputId": "3c02ea78-b318-496c-910d-23721f1b6131"
      },
      "outputs": [],
      "source": [
        "from dotenv import load_dotenv\n",
        "import os\n",
        "\n",
        "load_dotenv()\n",
        "os.environ['OPENAI_API_KEY'] = os.environ.get(\"OPENAI_API_KEY\")"
      ]
    },
    {
      "cell_type": "markdown",
      "metadata": {
        "id": "zo1f1Z6fUxJv"
      },
      "source": [
        "# PydanticOutputParser"
      ]
    },
    {
      "cell_type": "markdown",
      "metadata": {
        "id": "lzr9k3yFZDkO"
      },
      "source": [
        "## Imports"
      ]
    },
    {
      "cell_type": "code",
      "execution_count": 2,
      "metadata": {
        "id": "0qomvYqwy18W"
      },
      "outputs": [],
      "source": [
        "from langchain_openai import OpenAI\n",
        "from langchain.prompts import PromptTemplate\n",
        "from langchain.output_parsers import PydanticOutputParser"
      ]
    },
    {
      "cell_type": "code",
      "execution_count": 3,
      "metadata": {
        "id": "TxsF7TGqy24l"
      },
      "outputs": [],
      "source": [
        "from pydantic import BaseModel, Field, validator\n",
        "from typing import List"
      ]
    },
    {
      "cell_type": "code",
      "execution_count": 4,
      "metadata": {
        "id": "RYf_NqLLy4lb"
      },
      "outputs": [],
      "source": [
        "model_name = 'gpt-3.5-turbo-instruct'\n",
        "temperature = 0.0\n",
        "model = OpenAI(model_name=model_name, temperature=temperature)"
      ]
    },
    {
      "cell_type": "markdown",
      "metadata": {
        "id": "URPqeTYegShI"
      },
      "source": [
        "## Documentation Example"
      ]
    },
    {
      "cell_type": "code",
      "execution_count": 5,
      "metadata": {
        "id": "uZ0RaEhSzwiM"
      },
      "outputs": [],
      "source": [
        "# Define your desired data structure.\n",
        "class Joke(BaseModel):\n",
        "    setup: str = Field(description=\"question to set up a joke\")\n",
        "    punchline: str = Field(description=\"answer to resolve the joke\")\n",
        "\n",
        "    # You can add custom validation logic easily with Pydantic.\n",
        "    @validator('setup')\n",
        "    def question_ends_with_question_mark(cls, field):\n",
        "        if field[-1] != '?':\n",
        "            raise ValueError(\"Badly formed question!\")\n",
        "        return field"
      ]
    },
    {
      "cell_type": "code",
      "execution_count": 6,
      "metadata": {
        "id": "3RmLHS4Z3B6b"
      },
      "outputs": [],
      "source": [
        "# And a query intented to prompt a language model to populate the data structure.\n",
        "joke_query = \"Tell me a joke.\""
      ]
    },
    {
      "cell_type": "code",
      "execution_count": 7,
      "metadata": {
        "id": "8MVgV1Hs3Fnk"
      },
      "outputs": [],
      "source": [
        "# Set up a parser + inject instructions into the prompt template.\n",
        "parser = PydanticOutputParser(pydantic_object=Joke)"
      ]
    },
    {
      "cell_type": "code",
      "execution_count": 8,
      "metadata": {
        "id": "oSqgJ3JT3Hh-"
      },
      "outputs": [],
      "source": [
        "prompt = PromptTemplate(\n",
        "    template=\"Answer the user query.\\n{format_instructions}\\n{query}\\n\",\n",
        "    input_variables=[\"query\"],\n",
        "    partial_variables={\"format_instructions\": parser.get_format_instructions()}\n",
        ")\n",
        "\n",
        "_input = prompt.format_prompt(query=joke_query)"
      ]
    },
    {
      "cell_type": "code",
      "execution_count": 13,
      "metadata": {
        "id": "HArhWPfs3J6O"
      },
      "outputs": [],
      "source": [
        "output = model.invoke(_input.to_string())"
      ]
    },
    {
      "cell_type": "code",
      "execution_count": 14,
      "metadata": {
        "colab": {
          "base_uri": "https://localhost:8080/"
        },
        "id": "DsmNHKUa4Pv8",
        "outputId": "f2d59f1c-e132-49f4-e292-938926c33b9c"
      },
      "outputs": [
        {
          "data": {
            "text/plain": [
              "Joke(setup='Why did the tomato turn red?', punchline='Because it saw the salad dressing!')"
            ]
          },
          "execution_count": 14,
          "metadata": {},
          "output_type": "execute_result"
        }
      ],
      "source": [
        "parser.parse(output)"
      ]
    },
    {
      "cell_type": "markdown",
      "metadata": {},
      "source": [
        "Another example"
      ]
    },
    {
      "cell_type": "code",
      "execution_count": 19,
      "metadata": {},
      "outputs": [],
      "source": [
        "# Define your desired data structure.\n",
        "class Suggestions(BaseModel):\n",
        "    words: List[str] = Field(description=\"list of substitue words based on context\")\n",
        "\n",
        "    # Throw error in case of receiving a numbered-list from API\n",
        "    @validator('words')\n",
        "    def not_start_with_number(cls, field):\n",
        "        for item in field:\n",
        "            if item[0].isnumeric():\n",
        "                raise ValueError(\"The word can not start with numbers!\")\n",
        "        return field\n",
        "\n",
        "parser = PydanticOutputParser(pydantic_object=Suggestions)"
      ]
    },
    {
      "cell_type": "code",
      "execution_count": 27,
      "metadata": {},
      "outputs": [],
      "source": [
        "from langchain.prompts import PromptTemplate\n",
        "\n",
        "template = \"\"\"\n",
        "Offer a list of suggestions to substitue the specified target_word based the presented context.\n",
        "{format_instructions}\n",
        "target_word={target_word}\n",
        "context={context}\n",
        "\"\"\"\n",
        "\n",
        "prompt = PromptTemplate(\n",
        "    template=template,\n",
        "    input_variables=[\"target_word\", \"context\"],\n",
        "    partial_variables={\"format_instructions\": parser.get_format_instructions()}\n",
        ")\n",
        "\n",
        "model_input = prompt.format_prompt(\n",
        "\t\t\ttarget_word=\"behaviour\",\n",
        "\t\t\tcontext=\"The behaviour of the students in the classroom was disruptive and made it difficult for the teacher to conduct the lesson.\"\n",
        ")"
      ]
    },
    {
      "cell_type": "code",
      "execution_count": 28,
      "metadata": {},
      "outputs": [
        {
          "data": {
            "text/plain": [
              "Suggestions(words=['one', 'two', 'three', 'four', 'five', 'six', 'eight', 'nine', 'ten'])"
            ]
          },
          "execution_count": 28,
          "metadata": {},
          "output_type": "execute_result"
        }
      ],
      "source": [
        "from langchain_openai import OpenAI\n",
        "\n",
        "# Before executing the following code, make sure to have\n",
        "# your OpenAI key saved in the “OPENAI_API_KEY” environment variable.\n",
        "model = OpenAI(model_name='gpt-3.5-turbo-instruct', temperature=0.0)\n",
        "\n",
        "output = model.invoke(model_input.to_string())\n",
        "\n",
        "parser.parse(output)"
      ]
    },
    {
      "cell_type": "markdown",
      "metadata": {},
      "source": [
        "# Here's another example, but with a compound typed field."
      ]
    },
    {
      "cell_type": "code",
      "execution_count": 29,
      "metadata": {
        "id": "6wiexulx4bcO"
      },
      "outputs": [],
      "source": [
        "\n",
        "class Actor(BaseModel):\n",
        "    name: str = Field(description=\"name of an actor\")\n",
        "    film_names: List[str] = Field(description=\"list of names of films they starred in\")"
      ]
    },
    {
      "cell_type": "code",
      "execution_count": 31,
      "metadata": {
        "id": "X5vyMc_Z4dO0"
      },
      "outputs": [],
      "source": [
        "parser = PydanticOutputParser(pydantic_object=Actor)"
      ]
    },
    {
      "cell_type": "code",
      "execution_count": 32,
      "metadata": {
        "id": "Od8zVSLb4eif"
      },
      "outputs": [],
      "source": [
        "prompt = PromptTemplate(\n",
        "    template=\"Answer the user query.\\n{format_instructions}\\n{query}\\n\",\n",
        "    input_variables=[\"query\"],\n",
        "    partial_variables={\"format_instructions\": parser.get_format_instructions()}\n",
        ")"
      ]
    },
    {
      "cell_type": "code",
      "execution_count": 39,
      "metadata": {
        "id": "h62pBcQq4gVG"
      },
      "outputs": [],
      "source": [
        "actor_query = \"Generate the filmography for Del Toro.\"\n",
        "_input = prompt.format_prompt(query=actor_query)"
      ]
    },
    {
      "cell_type": "code",
      "execution_count": 40,
      "metadata": {
        "id": "zQWn0Khl4hev"
      },
      "outputs": [],
      "source": [
        "output = model.invoke(_input.to_string())"
      ]
    },
    {
      "cell_type": "code",
      "execution_count": 41,
      "metadata": {
        "colab": {
          "base_uri": "https://localhost:8080/"
        },
        "id": "qk-BLqr24iiO",
        "outputId": "c1c0b09f-3d31-4f92-e554-a03683b128a6"
      },
      "outputs": [
        {
          "data": {
            "text/plain": [
              "Actor(name='Del Toro', film_names=[\"Pan's Labyrinth\", 'The Shape of Water', 'Hellboy', 'Sicario', 'Blade II'])"
            ]
          },
          "execution_count": 41,
          "metadata": {},
          "output_type": "execute_result"
        }
      ],
      "source": [
        "parser.parse(output)"
      ]
    },
    {
      "cell_type": "markdown",
      "metadata": {
        "id": "3sy-cicc6PpP"
      },
      "source": [
        "## My Example"
      ]
    },
    {
      "cell_type": "code",
      "execution_count": null,
      "metadata": {
        "id": "y_nVxsRA6Qit"
      },
      "outputs": [],
      "source": [
        "# Define your desired data structure.\n",
        "class Suggestions(BaseModel):\n",
        "    words: List[str] = Field(description=\"list of substitue words based on context\")\n",
        "\n",
        "    # Throw error in case of recieving a numbered-list from API\n",
        "    @validator('words')\n",
        "    def not_start_with_number(cls, field):\n",
        "        if field[0].isnumeric():\n",
        "            raise ValueError(\"The word can not start with numbers!\")\n",
        "        return field"
      ]
    },
    {
      "cell_type": "code",
      "execution_count": null,
      "metadata": {
        "id": "nR6c6dOW7IUq"
      },
      "outputs": [],
      "source": [
        "parser = PydanticOutputParser(pydantic_object=Suggestions)"
      ]
    },
    {
      "cell_type": "code",
      "execution_count": null,
      "metadata": {
        "id": "LnPGiZtf8-C6"
      },
      "outputs": [],
      "source": [
        "template = \"\"\"\n",
        "Offer a list of suggestions to substitue the specified target_word based the presented context.\n",
        "{format_instructions}\n",
        "target_word={target_word}\n",
        "context={context}\n",
        "\"\"\""
      ]
    },
    {
      "cell_type": "code",
      "execution_count": null,
      "metadata": {
        "id": "7RzJL9eO8iWt"
      },
      "outputs": [],
      "source": [
        "prompt = PromptTemplate(\n",
        "    template=template,\n",
        "    input_variables=[\"target_word\", \"context\"],\n",
        "    partial_variables={\"format_instructions\": parser.get_format_instructions()}\n",
        ")\n",
        "\n",
        "_input = prompt.format_prompt(target_word=\"behaviour\", context=\"The behaviour of the students in the classroom was disruptive and made it difficult for the teacher to conduct the lesson.\")"
      ]
    },
    {
      "cell_type": "code",
      "execution_count": null,
      "metadata": {
        "id": "gYkfASGKEuiM"
      },
      "outputs": [],
      "source": [
        "output = model(_input.to_string())"
      ]
    },
    {
      "cell_type": "code",
      "execution_count": null,
      "metadata": {
        "colab": {
          "base_uri": "https://localhost:8080/"
        },
        "id": "1bsuujQeE5ZG",
        "outputId": "4c89f370-5fff-4df2-8ecf-799521fb4db1"
      },
      "outputs": [
        {
          "data": {
            "text/plain": [
              "Suggestions(words=['conduct', 'manner', 'action', 'demeanor', 'attitude', 'activity'])"
            ]
          },
          "execution_count": 34,
          "metadata": {},
          "output_type": "execute_result"
        }
      ],
      "source": [
        "parser.parse(output)"
      ]
    },
    {
      "cell_type": "markdown",
      "metadata": {
        "id": "G1Lc1aD0giWW"
      },
      "source": [
        "## My Example, Multiple Outputs"
      ]
    },
    {
      "cell_type": "code",
      "execution_count": 78,
      "metadata": {
        "id": "pRJre1bXgiEr"
      },
      "outputs": [],
      "source": [
        "# Define your desired data structure.\n",
        "class Suggestions(BaseModel):\n",
        "    words: List[str] = Field(description=\"list of substitue words based on context\")\n",
        "    reasons: List[str] = Field(description=\"the reasoning of why this word fits the context\")\n",
        "\n",
        "    # Throw error in case of recieving a numbered-list from API\n",
        "    @validator('words')\n",
        "    def not_start_with_number(cls, field):\n",
        "      for item in field:\n",
        "        if item[0].isnumeric():\n",
        "          raise ValueError(\"The word can not start with numbers!\")\n",
        "      return field\n",
        "\n",
        "    @validator('reasons')\n",
        "    def end_with_dot(cls, field):\n",
        "      for idx, item in enumerate( field ):\n",
        "        if item[-1] != \".\":\n",
        "          field[idx] += \".\"\n",
        "      return field"
      ]
    },
    {
      "cell_type": "code",
      "execution_count": 79,
      "metadata": {
        "id": "T_Odwb2Vgq6i"
      },
      "outputs": [],
      "source": [
        "parser = PydanticOutputParser(pydantic_object=Suggestions)"
      ]
    },
    {
      "cell_type": "code",
      "execution_count": 80,
      "metadata": {
        "id": "FBYOEFr3gtJq"
      },
      "outputs": [],
      "source": [
        "template = \"\"\"\n",
        "Offer a list of suggestions to substitue the specified target_word based the presented context. Give a reason for each word suggested\n",
        "{format_instructions}\n",
        "target_word={target_word}\n",
        "context={context}\n",
        "\"\"\""
      ]
    },
    {
      "cell_type": "code",
      "execution_count": 81,
      "metadata": {
        "id": "usHAhjsJg2YG"
      },
      "outputs": [],
      "source": [
        "prompt = PromptTemplate(\n",
        "    template=template,\n",
        "    input_variables=[\"target_word\", \"context\"],\n",
        "    partial_variables={\"format_instructions\": parser.get_format_instructions()}\n",
        ")\n",
        "\n",
        "model_input = prompt.format_prompt(target_word=\"behaviour\", context=\"The behaviour of the students in the classroom was disruptive and made it difficult for the teacher to conduct the lesson.\")"
      ]
    },
    {
      "cell_type": "code",
      "execution_count": 82,
      "metadata": {},
      "outputs": [
        {
          "name": "stdout",
          "output_type": "stream",
          "text": [
            "\n",
            "Offer a list of suggestions to substitue the specified target_word based the presented context. Give a reason for each word suggested\n",
            "The output should be formatted as a JSON instance that conforms to the JSON schema below.\n",
            "\n",
            "As an example, for the schema {\"properties\": {\"foo\": {\"title\": \"Foo\", \"description\": \"a list of strings\", \"type\": \"array\", \"items\": {\"type\": \"string\"}}}, \"required\": [\"foo\"]}\n",
            "the object {\"foo\": [\"bar\", \"baz\"]} is a well-formatted instance of the schema. The object {\"properties\": {\"foo\": [\"bar\", \"baz\"]}} is not well-formatted.\n",
            "\n",
            "Here is the output schema:\n",
            "```\n",
            "{\"properties\": {\"words\": {\"title\": \"Words\", \"description\": \"list of substitue words based on context\", \"type\": \"array\", \"items\": {\"type\": \"string\"}}, \"reasons\": {\"title\": \"Reasons\", \"description\": \"the reasoning of why this word fits the context\", \"type\": \"array\", \"items\": {\"type\": \"string\"}}}, \"required\": [\"words\", \"reasons\"]}\n",
            "```\n",
            "target_word=behaviour\n",
            "context=The behaviour of the students in the classroom was disruptive and made it difficult for the teacher to conduct the lesson.\n",
            "\n"
          ]
        }
      ],
      "source": [
        "print(model_input.to_string())"
      ]
    },
    {
      "cell_type": "code",
      "execution_count": 83,
      "metadata": {
        "id": "Vfz6lxXOg6vq"
      },
      "outputs": [],
      "source": [
        "output = model(model_input.to_string())"
      ]
    },
    {
      "cell_type": "code",
      "execution_count": 84,
      "metadata": {
        "colab": {
          "base_uri": "https://localhost:8080/"
        },
        "id": "1R-flPY0g8E-",
        "outputId": "23decf92-2ef0-48ab-d6e0-c016b58c3ba3"
      },
      "outputs": [
        {
          "data": {
            "text/plain": [
              "Suggestions(words=['conduct', 'manage', 'handle', 'oversee'], reasons=['These words all suggest a sense of control and direction, which is the opposite of disruptive behaviour in a classroom setting.'])"
            ]
          },
          "execution_count": 84,
          "metadata": {},
          "output_type": "execute_result"
        }
      ],
      "source": [
        "parser.parse(output)"
      ]
    },
    {
      "cell_type": "markdown",
      "metadata": {
        "id": "cB7bi-ehU4-V"
      },
      "source": [
        "# CommaSeparatedListOutputParser"
      ]
    },
    {
      "cell_type": "markdown",
      "metadata": {
        "id": "9kX-OJMQZHyB"
      },
      "source": [
        "## Imports"
      ]
    },
    {
      "cell_type": "code",
      "execution_count": null,
      "metadata": {
        "id": "L9SXjmZkU9Rz"
      },
      "outputs": [],
      "source": [
        "from langchain.llms import OpenAI\n",
        "from langchain.prompts import PromptTemplate\n",
        "from langchain.output_parsers import CommaSeparatedListOutputParser"
      ]
    },
    {
      "cell_type": "markdown",
      "metadata": {
        "id": "ngM4gJ2iZJ1P"
      },
      "source": [
        "## My example"
      ]
    },
    {
      "cell_type": "code",
      "execution_count": null,
      "metadata": {
        "id": "B_5y6jTTX0q2"
      },
      "outputs": [],
      "source": [
        "parser = CommaSeparatedListOutputParser()"
      ]
    },
    {
      "cell_type": "code",
      "execution_count": null,
      "metadata": {
        "id": "Z_5lp0_cYGKG"
      },
      "outputs": [],
      "source": [
        "template = \"\"\"\n",
        "Offer a list of suggestions to substitue the word '{target_word}' based the presented the following text: {context}.\n",
        "{format_instructions}\n",
        "\"\"\""
      ]
    },
    {
      "cell_type": "code",
      "execution_count": null,
      "metadata": {
        "id": "MX9mnMoCX4IQ"
      },
      "outputs": [],
      "source": [
        "prompt = PromptTemplate(\n",
        "    template=template,\n",
        "    input_variables=[\"target_word\", \"context\"],\n",
        "    partial_variables={\"format_instructions\": parser.get_format_instructions()}\n",
        ")\n",
        "\n",
        "model_input = prompt.format(\n",
        "  target_word=\"behaviour\",\n",
        "  context=\"The behaviour of the students in the classroom was disruptive and made it difficult for the teacher to conduct the lesson.\"\n",
        ")"
      ]
    },
    {
      "cell_type": "code",
      "execution_count": null,
      "metadata": {
        "id": "R8GOxGjjX4ks"
      },
      "outputs": [],
      "source": [
        "model_name = 'text-davinci-003'\n",
        "temperature = 0.0\n",
        "\n",
        "model = OpenAI(model_name=model_name, temperature=temperature)"
      ]
    },
    {
      "cell_type": "code",
      "execution_count": null,
      "metadata": {
        "id": "LRyegkT1X7dn"
      },
      "outputs": [],
      "source": [
        "output = model(model_input)"
      ]
    },
    {
      "cell_type": "code",
      "execution_count": null,
      "metadata": {
        "colab": {
          "base_uri": "https://localhost:8080/"
        },
        "id": "nMU4iXnJfPBh",
        "outputId": "38c34572-06fb-4188-e277-b52a5f8ed96e"
      },
      "outputs": [
        {
          "data": {
            "text/plain": [
              "['Conduct',\n",
              " 'Actions',\n",
              " 'Demeanor',\n",
              " 'Mannerisms',\n",
              " 'Attitude',\n",
              " 'Performance',\n",
              " 'Reactions',\n",
              " 'Interactions',\n",
              " 'Habits',\n",
              " 'Repertoire',\n",
              " 'Disposition',\n",
              " 'Bearing',\n",
              " 'Posture',\n",
              " 'Deportment',\n",
              " 'Comportment']"
            ]
          },
          "execution_count": 27,
          "metadata": {},
          "output_type": "execute_result"
        }
      ],
      "source": [
        "parser.parse(output)"
      ]
    },
    {
      "cell_type": "markdown",
      "metadata": {
        "id": "SvDFFFJg7owk"
      },
      "source": [
        "# OutputFixingParser"
      ]
    },
    {
      "cell_type": "code",
      "execution_count": 65,
      "metadata": {
        "id": "cUOr9lNE7rNe"
      },
      "outputs": [],
      "source": [
        "from langchain.llms import OpenAI\n",
        "from langchain.output_parsers import PydanticOutputParser\n",
        "from langchain.output_parsers import OutputFixingParser"
      ]
    },
    {
      "cell_type": "code",
      "execution_count": 66,
      "metadata": {
        "id": "dMozaMOz-EEX"
      },
      "outputs": [],
      "source": [
        "from pydantic import BaseModel, Field\n",
        "from typing import List"
      ]
    },
    {
      "cell_type": "code",
      "execution_count": 68,
      "metadata": {
        "id": "F8icANHJADeP"
      },
      "outputs": [],
      "source": [
        "model_name = 'gpt-3.5-turbo-instruct'\n",
        "temperature = 0.0\n",
        "model = OpenAI(model_name=model_name, temperature=temperature)"
      ]
    },
    {
      "cell_type": "code",
      "execution_count": 69,
      "metadata": {
        "id": "BoaaITzR-LSB"
      },
      "outputs": [],
      "source": [
        "# Define your desired data structure.\n",
        "class Suggestions(BaseModel):\n",
        "    words: List[str] = Field(description=\"list of substitue words based on context\")\n",
        "    reasons: List[str] = Field(description=\"the reasoning of why this word fits the context\")\n",
        "\n",
        "parser = PydanticOutputParser(pydantic_object=Suggestions)"
      ]
    },
    {
      "cell_type": "markdown",
      "metadata": {
        "id": "gaf084y9__G8"
      },
      "source": [
        "## Example can fix"
      ]
    },
    {
      "cell_type": "code",
      "execution_count": 70,
      "metadata": {
        "id": "BH3_H3BvBAuc"
      },
      "outputs": [],
      "source": [
        "missformatted_output = '{\"words\": [\"conduct\", \"manner\"], \"reasoning\": [\"refers to the way someone acts in a particular situation.\", \"refers to the way someone behaves in a particular situation.\"]}'"
      ]
    },
    {
      "cell_type": "code",
      "execution_count": 71,
      "metadata": {
        "colab": {
          "base_uri": "https://localhost:8080/",
          "height": 532
        },
        "id": "auvd-X1gBAn5",
        "outputId": "3f406479-9cf3-4350-cade-66e0b4764ec9"
      },
      "outputs": [
        {
          "ename": "OutputParserException",
          "evalue": "Failed to parse Suggestions from completion {\"words\": [\"conduct\", \"manner\"], \"reasoning\": [\"refers to the way someone acts in a particular situation.\", \"refers to the way someone behaves in a particular situation.\"]}. Got: 1 validation error for Suggestions\nreasons\n  field required (type=value_error.missing)",
          "output_type": "error",
          "traceback": [
            "\u001b[1;31m---------------------------------------------------------------------------\u001b[0m",
            "\u001b[1;31mValidationError\u001b[0m                           Traceback (most recent call last)",
            "File \u001b[1;32mc:\\Users\\Eddy.Tovar\\Documents\\Datos\\work\\PycharmProjects\\proyectos_personales\\cursos_llm\\activeloop_langchain_vector\\venv\\lib\\site-packages\\langchain\\output_parsers\\pydantic.py:34\u001b[0m, in \u001b[0;36mPydanticOutputParser.parse\u001b[1;34m(self, text)\u001b[0m\n\u001b[0;32m     33\u001b[0m     json_object \u001b[39m=\u001b[39m json\u001b[39m.\u001b[39mloads(json_str, strict\u001b[39m=\u001b[39m\u001b[39mFalse\u001b[39;00m)\n\u001b[1;32m---> 34\u001b[0m     \u001b[39mreturn\u001b[39;00m \u001b[39mself\u001b[39;49m\u001b[39m.\u001b[39;49mpydantic_object\u001b[39m.\u001b[39;49mparse_obj(json_object)\n\u001b[0;32m     36\u001b[0m \u001b[39mexcept\u001b[39;00m (json\u001b[39m.\u001b[39mJSONDecodeError, ValidationError) \u001b[39mas\u001b[39;00m e:\n",
            "File \u001b[1;32mc:\\Users\\Eddy.Tovar\\Documents\\Datos\\work\\PycharmProjects\\proyectos_personales\\cursos_llm\\activeloop_langchain_vector\\venv\\lib\\site-packages\\pydantic\\main.py:526\u001b[0m, in \u001b[0;36mpydantic.main.BaseModel.parse_obj\u001b[1;34m()\u001b[0m\n",
            "File \u001b[1;32mc:\\Users\\Eddy.Tovar\\Documents\\Datos\\work\\PycharmProjects\\proyectos_personales\\cursos_llm\\activeloop_langchain_vector\\venv\\lib\\site-packages\\pydantic\\main.py:341\u001b[0m, in \u001b[0;36mpydantic.main.BaseModel.__init__\u001b[1;34m()\u001b[0m\n",
            "\u001b[1;31mValidationError\u001b[0m: 1 validation error for Suggestions\nreasons\n  field required (type=value_error.missing)",
            "\nDuring handling of the above exception, another exception occurred:\n",
            "\u001b[1;31mOutputParserException\u001b[0m                     Traceback (most recent call last)",
            "\u001b[1;32mc:\\Users\\Eddy.Tovar\\Documents\\Datos\\work\\PycharmProjects\\proyectos_personales\\cursos_llm\\activeloop_langchain_vector\\Prompt\\Managing_Outputs_with_Output_Parsers.ipynb Cell 57\u001b[0m line \u001b[0;36m1\n\u001b[1;32m----> <a href='vscode-notebook-cell:/c%3A/Users/Eddy.Tovar/Documents/Datos/work/PycharmProjects/proyectos_personales/cursos_llm/activeloop_langchain_vector/Prompt/Managing_Outputs_with_Output_Parsers.ipynb#Y102sZmlsZQ%3D%3D?line=0'>1</a>\u001b[0m parser\u001b[39m.\u001b[39;49mparse(missformatted_output)\n",
            "File \u001b[1;32mc:\\Users\\Eddy.Tovar\\Documents\\Datos\\work\\PycharmProjects\\proyectos_personales\\cursos_llm\\activeloop_langchain_vector\\venv\\lib\\site-packages\\langchain\\output_parsers\\pydantic.py:39\u001b[0m, in \u001b[0;36mPydanticOutputParser.parse\u001b[1;34m(self, text)\u001b[0m\n\u001b[0;32m     37\u001b[0m name \u001b[39m=\u001b[39m \u001b[39mself\u001b[39m\u001b[39m.\u001b[39mpydantic_object\u001b[39m.\u001b[39m\u001b[39m__name__\u001b[39m\n\u001b[0;32m     38\u001b[0m msg \u001b[39m=\u001b[39m \u001b[39mf\u001b[39m\u001b[39m\"\u001b[39m\u001b[39mFailed to parse \u001b[39m\u001b[39m{\u001b[39;00mname\u001b[39m}\u001b[39;00m\u001b[39m from completion \u001b[39m\u001b[39m{\u001b[39;00mtext\u001b[39m}\u001b[39;00m\u001b[39m. Got: \u001b[39m\u001b[39m{\u001b[39;00me\u001b[39m}\u001b[39;00m\u001b[39m\"\u001b[39m\n\u001b[1;32m---> 39\u001b[0m \u001b[39mraise\u001b[39;00m OutputParserException(msg, llm_output\u001b[39m=\u001b[39mtext)\n",
            "\u001b[1;31mOutputParserException\u001b[0m: Failed to parse Suggestions from completion {\"words\": [\"conduct\", \"manner\"], \"reasoning\": [\"refers to the way someone acts in a particular situation.\", \"refers to the way someone behaves in a particular situation.\"]}. Got: 1 validation error for Suggestions\nreasons\n  field required (type=value_error.missing)"
          ]
        }
      ],
      "source": [
        "parser.parse(missformatted_output)"
      ]
    },
    {
      "cell_type": "code",
      "execution_count": 72,
      "metadata": {
        "id": "G0U6zhY_BAfT"
      },
      "outputs": [],
      "source": [
        "outputfixing_parser = OutputFixingParser.from_llm(parser=parser, llm=model)"
      ]
    },
    {
      "cell_type": "code",
      "execution_count": 73,
      "metadata": {
        "colab": {
          "base_uri": "https://localhost:8080/"
        },
        "id": "x-S4HyELBuN6",
        "outputId": "b7525722-d220-4322-f719-ef7efb9d7f18"
      },
      "outputs": [
        {
          "data": {
            "text/plain": [
              "Suggestions(words=['conduct', 'manner'], reasons=['refers to the way someone acts in a particular situation.', 'refers to the way someone behaves in a particular situation.'])"
            ]
          },
          "execution_count": 73,
          "metadata": {},
          "output_type": "execute_result"
        }
      ],
      "source": [
        "outputfixing_parser.parse(missformatted_output)"
      ]
    },
    {
      "cell_type": "markdown",
      "metadata": {
        "id": "Ro4gfYu5BwYo"
      },
      "source": [
        "## Example can NOT fix"
      ]
    },
    {
      "cell_type": "code",
      "execution_count": 74,
      "metadata": {
        "id": "kiVpYRA_-N_3"
      },
      "outputs": [],
      "source": [
        "missformatted_output = '{\"words\": [\"conduct\", \"manner\"]}'"
      ]
    },
    {
      "cell_type": "code",
      "execution_count": 75,
      "metadata": {
        "colab": {
          "base_uri": "https://localhost:8080/",
          "height": 514
        },
        "id": "DG7bQwWc-qeO",
        "outputId": "39f6e423-9c24-4f29-f2a8-279da7617612"
      },
      "outputs": [
        {
          "ename": "OutputParserException",
          "evalue": "Failed to parse Suggestions from completion {\"words\": [\"conduct\", \"manner\"]}. Got: 1 validation error for Suggestions\nreasons\n  field required (type=value_error.missing)",
          "output_type": "error",
          "traceback": [
            "\u001b[1;31m---------------------------------------------------------------------------\u001b[0m",
            "\u001b[1;31mValidationError\u001b[0m                           Traceback (most recent call last)",
            "File \u001b[1;32mc:\\Users\\Eddy.Tovar\\Documents\\Datos\\work\\PycharmProjects\\proyectos_personales\\cursos_llm\\activeloop_langchain_vector\\venv\\lib\\site-packages\\langchain\\output_parsers\\pydantic.py:34\u001b[0m, in \u001b[0;36mPydanticOutputParser.parse\u001b[1;34m(self, text)\u001b[0m\n\u001b[0;32m     33\u001b[0m     json_object \u001b[39m=\u001b[39m json\u001b[39m.\u001b[39mloads(json_str, strict\u001b[39m=\u001b[39m\u001b[39mFalse\u001b[39;00m)\n\u001b[1;32m---> 34\u001b[0m     \u001b[39mreturn\u001b[39;00m \u001b[39mself\u001b[39;49m\u001b[39m.\u001b[39;49mpydantic_object\u001b[39m.\u001b[39;49mparse_obj(json_object)\n\u001b[0;32m     36\u001b[0m \u001b[39mexcept\u001b[39;00m (json\u001b[39m.\u001b[39mJSONDecodeError, ValidationError) \u001b[39mas\u001b[39;00m e:\n",
            "File \u001b[1;32mc:\\Users\\Eddy.Tovar\\Documents\\Datos\\work\\PycharmProjects\\proyectos_personales\\cursos_llm\\activeloop_langchain_vector\\venv\\lib\\site-packages\\pydantic\\main.py:526\u001b[0m, in \u001b[0;36mpydantic.main.BaseModel.parse_obj\u001b[1;34m()\u001b[0m\n",
            "File \u001b[1;32mc:\\Users\\Eddy.Tovar\\Documents\\Datos\\work\\PycharmProjects\\proyectos_personales\\cursos_llm\\activeloop_langchain_vector\\venv\\lib\\site-packages\\pydantic\\main.py:341\u001b[0m, in \u001b[0;36mpydantic.main.BaseModel.__init__\u001b[1;34m()\u001b[0m\n",
            "\u001b[1;31mValidationError\u001b[0m: 1 validation error for Suggestions\nreasons\n  field required (type=value_error.missing)",
            "\nDuring handling of the above exception, another exception occurred:\n",
            "\u001b[1;31mOutputParserException\u001b[0m                     Traceback (most recent call last)",
            "\u001b[1;32mc:\\Users\\Eddy.Tovar\\Documents\\Datos\\work\\PycharmProjects\\proyectos_personales\\cursos_llm\\activeloop_langchain_vector\\Prompt\\Managing_Outputs_with_Output_Parsers.ipynb Cell 62\u001b[0m line \u001b[0;36m1\n\u001b[1;32m----> <a href='vscode-notebook-cell:/c%3A/Users/Eddy.Tovar/Documents/Datos/work/PycharmProjects/proyectos_personales/cursos_llm/activeloop_langchain_vector/Prompt/Managing_Outputs_with_Output_Parsers.ipynb#Y110sZmlsZQ%3D%3D?line=0'>1</a>\u001b[0m parser\u001b[39m.\u001b[39;49mparse(missformatted_output)\n",
            "File \u001b[1;32mc:\\Users\\Eddy.Tovar\\Documents\\Datos\\work\\PycharmProjects\\proyectos_personales\\cursos_llm\\activeloop_langchain_vector\\venv\\lib\\site-packages\\langchain\\output_parsers\\pydantic.py:39\u001b[0m, in \u001b[0;36mPydanticOutputParser.parse\u001b[1;34m(self, text)\u001b[0m\n\u001b[0;32m     37\u001b[0m name \u001b[39m=\u001b[39m \u001b[39mself\u001b[39m\u001b[39m.\u001b[39mpydantic_object\u001b[39m.\u001b[39m\u001b[39m__name__\u001b[39m\n\u001b[0;32m     38\u001b[0m msg \u001b[39m=\u001b[39m \u001b[39mf\u001b[39m\u001b[39m\"\u001b[39m\u001b[39mFailed to parse \u001b[39m\u001b[39m{\u001b[39;00mname\u001b[39m}\u001b[39;00m\u001b[39m from completion \u001b[39m\u001b[39m{\u001b[39;00mtext\u001b[39m}\u001b[39;00m\u001b[39m. Got: \u001b[39m\u001b[39m{\u001b[39;00me\u001b[39m}\u001b[39;00m\u001b[39m\"\u001b[39m\n\u001b[1;32m---> 39\u001b[0m \u001b[39mraise\u001b[39;00m OutputParserException(msg, llm_output\u001b[39m=\u001b[39mtext)\n",
            "\u001b[1;31mOutputParserException\u001b[0m: Failed to parse Suggestions from completion {\"words\": [\"conduct\", \"manner\"]}. Got: 1 validation error for Suggestions\nreasons\n  field required (type=value_error.missing)"
          ]
        }
      ],
      "source": [
        "parser.parse(missformatted_output)"
      ]
    },
    {
      "cell_type": "code",
      "execution_count": 76,
      "metadata": {
        "id": "o7U9CJr1_OD1"
      },
      "outputs": [],
      "source": [
        "outputfixing_parser = OutputFixingParser.from_llm(parser=parser, llm=model)"
      ]
    },
    {
      "cell_type": "code",
      "execution_count": 77,
      "metadata": {
        "colab": {
          "base_uri": "https://localhost:8080/"
        },
        "id": "ZgycYLR7_gD9",
        "outputId": "14fef061-8ea8-4abb-9a57-e590df0c88d0"
      },
      "outputs": [
        {
          "data": {
            "text/plain": [
              "Suggestions(words=['conduct', 'manner'], reasons=['These words both describe a way of behaving or carrying oneself.'])"
            ]
          },
          "execution_count": 77,
          "metadata": {},
          "output_type": "execute_result"
        }
      ],
      "source": [
        "outputfixing_parser.parse(missformatted_output)"
      ]
    },
    {
      "cell_type": "markdown",
      "metadata": {
        "id": "vvknCvhpB9u4"
      },
      "source": [
        "# RetryOutputParser"
      ]
    },
    {
      "cell_type": "code",
      "execution_count": 193,
      "metadata": {
        "id": "xTpm-zyCCppn"
      },
      "outputs": [],
      "source": [
        "from langchain.llms import OpenAI\n",
        "from langchain.prompts import PromptTemplate\n",
        "from langchain.output_parsers import PydanticOutputParser\n",
        "from langchain.output_parsers.pydantic import OutputParserException\n",
        "from langchain.output_parsers import RetryWithErrorOutputParser"
      ]
    },
    {
      "cell_type": "code",
      "execution_count": 86,
      "metadata": {
        "id": "95BsYWA-Cs19"
      },
      "outputs": [],
      "source": [
        "from pydantic import BaseModel, Field, validator\n",
        "from typing import List"
      ]
    },
    {
      "cell_type": "code",
      "execution_count": 87,
      "metadata": {
        "id": "qjoMnUDbCso2"
      },
      "outputs": [],
      "source": [
        "model_name = 'gpt-3.5-turbo-instruct'\n",
        "temperature = 0.0\n",
        "model = OpenAI(model_name=model_name, temperature=temperature)"
      ]
    },
    {
      "cell_type": "code",
      "execution_count": 184,
      "metadata": {
        "id": "eNbiNpSMB_Gx"
      },
      "outputs": [],
      "source": [
        "# Define your desired data structure.\n",
        "class Suggestions(BaseModel):\n",
        "    words: List[str] = Field(description=\"list of substitue words based on context\")\n",
        "    reasons: List[str] = Field(description=\"the reasoning of why this word fits the context\")\n",
        "\n",
        "    @validator('words')\n",
        "    def not_start_with_number(cls, field):\n",
        "      for item in field:\n",
        "        if item[0].isnumeric():\n",
        "          raise ValueError(\"The word can not start with numbers!\")\n",
        "      return field\n",
        "    \n",
        "    @validator('reasons')\n",
        "    def end_with_dot(cls, field):\n",
        "      for idx, item in enumerate( field ):\n",
        "        if item[-1] != \".\":\n",
        "          field[idx] += \".\"\n",
        "      return field\n",
        "    \n",
        "    # Validate that len(words) is equal to len(reasons)\n",
        "    @validator('reasons')\n",
        "    def validate_lengths(cls, field, values):\n",
        "      if 'words' in values and len(field) != len(values['words']):\n",
        "        raise ValueError(\"The words and reasons must have the same length!\")\n",
        "      return field\n",
        "\n",
        "parser = PydanticOutputParser(pydantic_object=Suggestions)"
      ]
    },
    {
      "cell_type": "code",
      "execution_count": 185,
      "metadata": {
        "id": "YqZdjApXCWeR"
      },
      "outputs": [],
      "source": [
        "template = \"\"\"\n",
        "Offer a list of suggestions to substitue the specified target_word based the presented context. Offer another list whith the reasons for each word in the first list. The number of reasons must be equal to the number of words\n",
        "{format_instructions}\n",
        "target_word={target_word}\n",
        "context={context}\n",
        "\"\"\"\n",
        "\n",
        "prompt = PromptTemplate(\n",
        "    template=template,\n",
        "    input_variables=[\"target_word\", \"context\"],\n",
        "    partial_variables={\"format_instructions\": parser.get_format_instructions()}\n",
        ")\n",
        "\n",
        "model_input = prompt.format_prompt(target_word=\"behaviour\", context=\"The behaviour of the students in the classroom was disruptive and made it difficult for the teacher to conduct the lesson.\")"
      ]
    },
    {
      "cell_type": "code",
      "execution_count": 189,
      "metadata": {
        "id": "BCBYLqS0CWW_"
      },
      "outputs": [],
      "source": [
        "missformatted_output = '{\"words\": [\"conduct\", \"manner\"]}'\n",
        "output = model.invoke(model_input)\n"
      ]
    },
    {
      "cell_type": "code",
      "execution_count": 195,
      "metadata": {},
      "outputs": [
        {
          "name": "stdout",
          "output_type": "stream",
          "text": [
            "reintentando parser con prompt\n"
          ]
        }
      ],
      "source": [
        "try:\n",
        "    ans = parser.parse(output)\n",
        "except OutputParserException:\n",
        "    print('reintentando parser con prompt')\n",
        "    retry_parser = RetryWithErrorOutputParser.from_llm(parser=parser, llm=model)\n",
        "    ans = retry_parser.parse_with_prompt(missformatted_output, model_input)"
      ]
    },
    {
      "cell_type": "code",
      "execution_count": 196,
      "metadata": {},
      "outputs": [
        {
          "data": {
            "text/plain": [
              "Suggestions(words=['conduct', 'manner'], reasons=[\"These words both refer to the way in which something is done or carried out, which is similar to the meaning of 'behaviour'.\", 'Both of these words also have a more formal tone, which is appropriate for the context of a classroom setting.'])"
            ]
          },
          "execution_count": 196,
          "metadata": {},
          "output_type": "execute_result"
        }
      ],
      "source": [
        "ans"
      ]
    },
    {
      "cell_type": "code",
      "execution_count": null,
      "metadata": {},
      "outputs": [],
      "source": []
    }
  ],
  "metadata": {
    "colab": {
      "provenance": []
    },
    "kernelspec": {
      "display_name": "Python 3",
      "name": "python3"
    },
    "language_info": {
      "codemirror_mode": {
        "name": "ipython",
        "version": 3
      },
      "file_extension": ".py",
      "mimetype": "text/x-python",
      "name": "python",
      "nbconvert_exporter": "python",
      "pygments_lexer": "ipython3",
      "version": "3.9.13"
    }
  },
  "nbformat": 4,
  "nbformat_minor": 0
}
